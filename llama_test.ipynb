{
 "cells": [
  {
   "metadata": {},
   "cell_type": "markdown",
   "source": "# 라마로 테스트",
   "id": "e97b616610ece4a6"
  },
  {
   "metadata": {},
   "cell_type": "code",
   "outputs": [
    {
     "data": {
      "text/plain": [
       "AIMessage(content='😊\\n\\n\"서울\" (Seoul) is the capital city of South Korea. It is a megacity with a population of over 10 million people, making it one of the most populous cities in the world.\\n\\nSeoul is known for its rich history and culture, dating back to the 18th century when it was the capital of the Joseon Dynasty. Today, it is a modern city with a vibrant economy, cutting-edge technology, and a blend of traditional and contemporary architecture.\\n\\nSome popular attractions in Seoul include:\\n\\n1. Gyeongbokgung Palace: The largest and most iconic palace in Korea.\\n2. Bukchon Hanok Village: A traditional Korean village with preserved hanok houses.\\n3. Myeong-dong Shopping District: One of the busiest shopping areas in Asia.\\n4. Namsan Tower (Seoul Tower): A popular spot for panoramic views of the city.\\n5. Insadong Street: A famous street filled with traditional tea houses, shops, and restaurants.\\n\\nSeoul is also known for its food scene, with popular dishes like bibimbap, bulgogi, and kimchi stew. And let\\'s not forget about the K-pop culture, with many idol groups and entertainment companies based in Seoul! 🎶\\n\\nOverall, Seoul is a fascinating city that offers a unique blend of traditional and modern culture, history, and entertainment. 💥', response_metadata={'model': 'llama3:latest', 'created_at': '2024-07-18T10:07:55.5097578Z', 'message': {'role': 'assistant', 'content': ''}, 'done_reason': 'stop', 'done': True, 'total_duration': 7185934800, 'load_duration': 4627964800, 'prompt_eval_count': 14, 'prompt_eval_duration': 17051000, 'eval_count': 286, 'eval_duration': 2533293000}, id='run-300d4652-42b8-4826-b6ba-728d34fad461-0')"
      ]
     },
     "execution_count": 1,
     "metadata": {},
     "output_type": "execute_result"
    }
   ],
   "execution_count": 1,
   "source": [
    "# #ollama 서버 실행중인지 확인\n",
    "# from langchain_community.chat_models import ChatOllama\n",
    "# \n",
    "# llm = ChatOllama(model=\"llama3:latest\")\n",
    "# llm.invoke(\"서울이란?\")"
   ],
   "id": "initial_id"
  },
  {
   "metadata": {
    "ExecuteTime": {
     "end_time": "2024-07-18T10:07:59.184467Z",
     "start_time": "2024-07-18T10:07:55.523234Z"
    }
   },
   "cell_type": "code",
   "source": [
    "# #prompt template\n",
    "# from langchain_core.prompts import ChatPromptTemplate\n",
    "# \n",
    "# prompt = ChatPromptTemplate.from_messages([\n",
    "#     (\"system\", \"You are a helpful, professional assistant named 권봇. Introduce yourself first, and answer the questions. answer me in Korean no matter what. \"),\n",
    "#     (\"user\", \"{input}\")\n",
    "# ])\n",
    "# \n",
    "# chain = prompt | llm\n",
    "# chain.invoke({\"input\": \"What is stock??\"})"
   ],
   "id": "26d83a1be70aafe1",
   "outputs": [
    {
     "data": {
      "text/plain": [
       "AIMessage(content=\"😊\\n\\n스톡(stock)입니다. STOCK는 회사의 주식이나 자본을 의미합니다. 즉, 특정 회사에 대한 지분이나 권리를 나타내는 증서입니다. 일반적으로 투자자들은股票을 구입하여 해당 회사의 성장으로부터 이익을 얻습니다. STOCK는 주로 주식시장에서 교환되며, 이를 통해 투자자들은 다양한 회사의 주식을 구입하거나 판매할 수 있습니다.\\n\\n(Translation: Stock is a company's stock or capital. It means the share or right to a specific company. Generally, investors buy stocks and gain benefits from the growth of that company. Stocks are traded on the stock market, allowing investors to purchase or sell shares of various companies.)\", response_metadata={'model': 'llama3:latest', 'created_at': '2024-07-18T10:07:59.1804134Z', 'message': {'role': 'assistant', 'content': ''}, 'done_reason': 'stop', 'done': True, 'total_duration': 1530939500, 'load_duration': 3622800, 'prompt_eval_count': 48, 'prompt_eval_duration': 47954000, 'eval_count': 157, 'eval_duration': 1477965000}, id='run-f3a4a1ea-b004-4644-97cc-a8560e688add-0')"
      ]
     },
     "execution_count": 2,
     "metadata": {},
     "output_type": "execute_result"
    }
   ],
   "execution_count": 2
  },
  {
   "metadata": {
    "ExecuteTime": {
     "end_time": "2024-07-18T10:08:01.962212Z",
     "start_time": "2024-07-18T10:07:59.185464Z"
    }
   },
   "cell_type": "code",
   "source": [
    "# #output parser사용\n",
    "# from langchain_core.output_parsers import StrOutputParser\n",
    "# \n",
    "# chain = prompt | llm | StrOutputParser()\n",
    "# chain.invoke({\"input\": \"What is stock?\"})"
   ],
   "id": "6005aae7914cef8c",
   "outputs": [
    {
     "data": {
      "text/plain": [
       "'😊\\n\\n스톡(stock)란 기업의 주식 또는 자본을 의미합니다. 즉, 특정 기업이 발행한 주식을 말하는 것입니다. 이 주식은 투자자들이 기업의 성장 가능성을 예상하여 구입하거나 판매할 수 있는 증권입니다.'"
      ]
     },
     "execution_count": 3,
     "metadata": {},
     "output_type": "execute_result"
    }
   ],
   "execution_count": 3
  },
  {
   "metadata": {
    "ExecuteTime": {
     "end_time": "2024-07-18T10:08:05.075994Z",
     "start_time": "2024-07-18T10:08:01.963209Z"
    }
   },
   "cell_type": "code",
   "source": [
    "# #체인 스트림 출력\n",
    "# chain = prompt | llm | StrOutputParser()\n",
    "# for token in chain.stream(\n",
    "#     {\"input\": \"What is stock?\"}\n",
    "# ):\n",
    "#     print(token, end=\"\")"
   ],
   "id": "7653855c0af510d4",
   "outputs": [
    {
     "name": "stdout",
     "output_type": "stream",
     "text": [
      "😊\n",
      "\n",
      " stocks, or, , are shares of ownership in a company that represent a claim on part of its assets and profits. In other words, stocks give you a small piece of a company's equity, allowing you to participate in its growth and success.\n",
      "\n",
      "Stocks can be traded on stock exchanges like the Korea Exchange (KRX) or over-the-counter markets, providing investors with an opportunity to buy and sell shares in various companies.\n",
      "\n",
      "Do you have any other questions about stocks?"
     ]
    }
   ],
   "execution_count": 4
  },
  {
   "metadata": {
    "ExecuteTime": {
     "end_time": "2024-07-18T10:08:12.750175Z",
     "start_time": "2024-07-18T10:08:05.076991Z"
    }
   },
   "cell_type": "code",
   "source": [
    "# # 첫번째 체인\n",
    "# prompt1 = ChatPromptTemplate.from_template(\"[{korean_input}] translate the question into English. Don't say anything else, just translate it.\")\n",
    "# chain1 = (\n",
    "#     prompt1 \n",
    "#     | llm \n",
    "#     | StrOutputParser()\n",
    "# )\n",
    "# message1 = chain1.invoke({\"korean_input\": \"주식이 뭐야?\"})\n",
    "# print(f'message1: {message1}') # What is a stock?\n",
    "# \n",
    "# # 두번째 체인\n",
    "# prompt2 = ChatPromptTemplate.from_messages([\n",
    "#     (\"system\", \"You are a helpful, professional assistant named 권봇. answer the question in Korean\"),\n",
    "#     (\"user\", \"{input}\")\n",
    "# ])\n",
    "# chain2 = (\n",
    "#     {\"input\": chain1}\n",
    "#     | prompt2\n",
    "#     | llm\n",
    "#     | StrOutputParser()\n",
    "# )\n",
    "# message2 = chain2.invoke({\"korean_input\": \"주식이 뭐야?\"})\n",
    "# print(f'message2: {message2}') # 주식은 한 회사의 소유권을 나타내는 증권입니다. 즉, 특정 기업에 투자하여 (중략)"
   ],
   "id": "a8c9c391c50c7d9a",
   "outputs": [
    {
     "name": "stdout",
     "output_type": "stream",
     "text": [
      "message1: \"What is stock?\"\n",
      "message2: 😊\n",
      "\n",
      "식권(stock)은 일정한 조건에 따라 발행된 주식을 의미합니다. 주식은 기업의 자산을 구성하는 부분 중 하나로, 주주가 지분을 가질 수 있는 증서를 말합니다. 주식은 주당 가격으로 매매되며, 주주는 해당 주식의 소유권을 갖게 됩니다.\n",
      "\n",
      "(Translation: Stock refers to a certain type of security that is issued under specific conditions. Stocks are part of a company's assets and represent ownership stakes in the business. Stock prices are traded on an exchange, and shareholders own the corresponding stocks.)\n"
     ]
    }
   ],
   "execution_count": 5
  },
  {
   "metadata": {
    "ExecuteTime": {
     "end_time": "2024-07-18T10:08:15.887730Z",
     "start_time": "2024-07-18T10:08:12.751172Z"
    }
   },
   "cell_type": "code",
   "source": [
    "# #체인 병렬 실행\n",
    "# from langchain_core.runnables import RunnableParallel\n",
    "# joke_chain = (\n",
    "#     ChatPromptTemplate.from_template(\"{topic}에 관련해서 짧은 농담 말해줘\") \n",
    "#     | llm)\n",
    "# poem_chain = (\n",
    "#     ChatPromptTemplate.from_template(\"{topic}에 관련해서 시 2줄 써줘\") \n",
    "#     | llm)\n",
    "# \n",
    "# # map_chain = {\"joke\": joke_chain, \"poem\": poem_chain} # 체인에서 이처럼 사용할 때, 자동으로 RunnableParallel 사용됨\n",
    "# # map_chain = RunnableParallel({\"joke\": joke_chain, \"poem\": poem_chain})\n",
    "# map_chain = RunnableParallel(joke=joke_chain, poem=poem_chain)\n",
    "# \n",
    "# map_chain.invoke({\"topic\": \"애플\"})"
   ],
   "id": "5ab298db73bbc9e",
   "outputs": [
    {
     "data": {
      "text/plain": [
       "{'joke': AIMessage(content=\"Here's a short Apple-related joke:\\n\\nWhy did the Apple employee break up with his girlfriend?\\n\\nBecause he needed more space... and a better battery life! 🤣🍎\", response_metadata={'model': 'llama3:latest', 'created_at': '2024-07-18T10:08:15.8757367Z', 'message': {'role': 'assistant', 'content': ''}, 'done_reason': 'stop', 'done': True, 'total_duration': 1078639400, 'load_duration': 1520900, 'prompt_eval_count': 14, 'prompt_eval_duration': 14051000, 'eval_count': 38, 'eval_duration': 336061000}, id='run-0856d868-7623-43a6-817f-e44dcc257b0f-0'),\n",
       " 'poem': AIMessage(content=\"Here are two lines about Apple:\\n\\nInnovative designs and user-friendly interfaces have made Apple a household name, with the iPhone revolutionizing the way we communicate. From Macs to iPads, Apple's ecosystem has become an integral part of modern life, shaping the tech industry for decades to come.\", response_metadata={'model': 'llama3:latest', 'created_at': '2024-07-18T10:08:15.5197738Z', 'message': {'role': 'assistant', 'content': ''}, 'done_reason': 'stop', 'done': True, 'total_duration': 722676500, 'load_duration': 1014700, 'prompt_eval_count': 23, 'prompt_eval_duration': 43259000, 'eval_count': 61, 'eval_duration': 676922000}, id='run-31411f27-7e48-451b-b1ee-0ef50183e009-0')}"
      ]
     },
     "execution_count": 6,
     "metadata": {},
     "output_type": "execute_result"
    }
   ],
   "execution_count": 6
  },
  {
   "metadata": {},
   "cell_type": "markdown",
   "source": "# GPT 3.5-turbo로 테스트",
   "id": "ece2be8051366109"
  },
  {
   "metadata": {
    "ExecuteTime": {
     "end_time": "2024-07-23T04:38:41.002878Z",
     "start_time": "2024-07-23T04:38:37.076037Z"
    }
   },
   "cell_type": "code",
   "source": [
    "from dotenv import load_dotenv\n",
    "from langchain.llms import OpenAI\n",
    "from langchain.chat_models import ChatOpenAI\n",
    "from langchain.prompts import ChatPromptTemplate\n",
    "from langchain.schema.runnable import RunnableLambda\n",
    "\n",
    "# 환경 변수 로드\n",
    "load_dotenv()\n",
    "\n",
    "# OpenAI API 키 설정\n",
    "OPENAI_API_KEY = \"OPENAI_API_KEY\"\n",
    "\n",
    "# ChatOpenAI 모델 초기화\n",
    "chat = ChatOpenAI(temperature=0.5)\n",
    "\n",
    "# 프롬프트 템플릿 설정\n",
    "template = ChatPromptTemplate.from_messages(\n",
    "    [\n",
    "        (\n",
    "            \"system\",\n",
    "            \"\"\"\n",
    "            텍스트 기반 어드벤처 게임의 내레이터 역할을 하세요. 당신의 임무는 환경과 보조 캐릭터를 묘사하는 것입니다. 보조 캐릭터가 말할 때는 직접 화법을 사용하세요. 플레이어가 플레이어 캐릭터(PC)의 행동과 대사를 조종합니다. 플레이어 캐릭터를 대신해 행동하거나 말해서는 안 됩니다. 내레이터가 상황을 묘사하고 플레이어가 플레이어 캐릭터의 행동을 말하는 식으로 턴이 진행됩니다. 플레이어 캐릭터에 대해 이야기할 때는 2인칭 시점을 사용하세요. 당신의 출력은 베스트셀러 작가가 쓴 것처럼 전문적으로 작성되어야 합니다.\n",
    "            -------\n",
    "                        \n",
    "            {setting_info}\n",
    "            \n",
    "            {character_info}\n",
    "            \n",
    "            {current_situation}\n",
    "            \"\"\",\n",
    "        ),\n",
    "        (\"human\", \"{question}\"),\n",
    "    ]\n",
    ")\n",
    "\n",
    "# 설정 정보\n",
    "setting_info = \"\"\"\n",
    "세계관: 스팀펑크와 마법이 공존하는 빅토리아 시대 스타일의 세계\n",
    "주요 도시: 네블린 - 거대한 시계탑과 증기 기관이 가득한 산업화된 도시\n",
    "정치 체제: 마법사 의회와 기술자 길드가 공동으로 통치\n",
    "주요 갈등: 마법과 기술의 균형을 둘러싼 긴장 관계\n",
    "특이사항: 하늘을 나는 증기선, 마법으로 작동하는 자동인형, 차원 간 여행이 가능한 포털\n",
    "\"\"\"\n",
    "\n",
    "# 캐릭터 정보\n",
    "character_info = \"\"\"\n",
    "이름: 에이든 스파크\n",
    "나이: 27세\n",
    "직업: 마법공학자 견습생\n",
    "외모: 붉은 곱슬머리, 녹색 눈, 항상 고글을 착용\n",
    "성격: 호기심 많고 모험을 좋아하며, 약간 서툴지만 열정적\n",
    "특기: 마법과 기계를 결합한 발명품 제작\n",
    "목표: 마법과 기술을 완벽하게 융합한 획기적인 발명품 만들기\n",
    "소지품: 다용도 마법 렌치, 증기력 소형 비행 장치\n",
    "\"\"\"\n",
    "\n",
    "# 현재 상황\n",
    "current_situation = \"\"\"\n",
    "당신은 네블린 시의 중심부, 거대한 시계탑 아래에 있는 붐비는 시장에 서 있습니다. 증기 기관의 윙윙거리는 소리와 마법 부적들이 짤랑거리는 소리가 공기를 가득 채우고 있습니다. 갑자기 하늘에서 이상한 폭발음이 들리고, 사람들이 놀라 위를 올려다봅니다. 무언가가 빠르게 떨어지고 있는 것 같습니다. 시장 광장에 있는 사람들은 혼란에 빠져 흩어지기 시작합니다. 당신의 발명품을 시연하러 가는 중이었지만, 이 갑작스러운 상황에 어떻게 대처해야 할지 고민하고 있습니다.\n",
    "\"\"\"\n",
    "\n",
    "# RunnableLambda를 사용하여 텍스트 전달\n",
    "temp_chain = {\n",
    "    \"setting_info\": RunnableLambda(lambda _: setting_info),\n",
    "    \"character_info\": RunnableLambda(lambda _: character_info),\n",
    "    \"current_situation\": RunnableLambda(lambda _: current_situation),\n",
    "    \"question\": RunnableLambda(lambda _: \"폭발음을 조사한다.\")\n",
    "} | template | chat\n",
    "\n",
    "# 체인 실행\n",
    "response = temp_chain.invoke({})\n",
    "print(response)\n"
   ],
   "id": "ccdd92cbbd996c75",
   "outputs": [
    {
     "name": "stdout",
     "output_type": "stream",
     "text": [
      "content='하늘에서 들려오는 폭발음을 조사하기 위해 주변을 둘러봅니다. 사람들이 흩어지면서 시장 광장은 혼란스러운 상황에 빠져 있습니다. 폭발음이 들려온 곳을 향해 걸어가면서, 무언가가 빠르게 떨어지고 있는 것을 발견합니다. 하늘에서 떨어지는 것은 작은 증기선처럼 보이지만, 이상하게도 그 주위에 마법적인 빛이 흐르고 있습니다. 이것은 분명히 이 세계에서 본 적이 없는 이례적인 현상입니다. 어떻게 대응할지를 결정해야 합니다.' response_metadata={'token_usage': {'completion_tokens': 231, 'prompt_tokens': 966, 'total_tokens': 1197}, 'model_name': 'gpt-3.5-turbo', 'system_fingerprint': None, 'finish_reason': 'stop', 'logprobs': None} id='run-4210ea90-6d79-4821-98a6-096f9f337de2-0'\n"
     ]
    }
   ],
   "execution_count": 4
  },
  {
   "metadata": {},
   "cell_type": "markdown",
   "source": "## 스토리 추가 테스트",
   "id": "31b09a69d154d12"
  },
  {
   "metadata": {
    "ExecuteTime": {
     "end_time": "2024-07-23T07:06:03.802516Z",
     "start_time": "2024-07-23T07:06:01.903891Z"
    }
   },
   "cell_type": "code",
   "source": [
    "from dotenv import load_dotenv\n",
    "from langchain.chat_models import ChatOpenAI\n",
    "from langchain.document_loaders import UnstructuredFileLoader\n",
    "from langchain.text_splitter import CharacterTextSplitter\n",
    "from langchain.embeddings import OpenAIEmbeddings, CacheBackedEmbeddings\n",
    "from langchain.vectorstores import FAISS\n",
    "from langchain.storage import LocalFileStore\n",
    "from langchain.chains import RetrievalQA\n",
    "from langchain.prompts import ChatPromptTemplate\n",
    "from langchain.schema.runnable import RunnablePassthrough, RunnableMap\n",
    "\n",
    "# 환경 변수 로드\n",
    "load_dotenv()\n",
    "\n",
    "# OpenAI API 키 설정\n",
    "OPENAI_API_KEY = \"OPENAI_API_KEY\"\n",
    "\n",
    "# ChatOpenAI 모델 초기화\n",
    "llm = ChatOpenAI(\n",
    "    temperature=0.5\n",
    ")\n",
    "\n",
    "cache_dir = LocalFileStore(\"./cache/\")\n",
    "\n",
    "splitter = CharacterTextSplitter.from_tiktoken_encoder(\n",
    "    separator=\"\\n\", \n",
    "    chunk_size=600,\n",
    "    chunk_overlap=100,\n",
    ")\n",
    "\n",
    "loader = UnstructuredFileLoader(\"./story/파도와_망각.pdf\")\n",
    "\n",
    "docs = loader.load_and_split(text_splitter=splitter)\n",
    "\n",
    "embeddings = OpenAIEmbeddings()\n",
    "\n",
    "cached_embeddings = CacheBackedEmbeddings.from_bytes_store(\n",
    "    embeddings, cache_dir\n",
    ")\n",
    "\n",
    "vectorstore = FAISS.from_documents(docs, cached_embeddings)\n",
    "\n",
    "retriever = vectorstore.as_retriever()\n",
    "\n",
    "prompt = ChatPromptTemplate.from_messages([\n",
    "    (\"system\",\n",
    "     \"\"\"\n",
    "     Act as a Narrator of a text based adventure game. Your task is to describe the environment and supporting characters. Use direct speech when support characters are speaking. There is a Player controlling the actions and speech of their player character (PC). You may never act or speak for the player character. The game proceeds in turns between the Narrator describing the situation and the player saying what the player character is doing. When speaking about the player character, use second-person point of view. Your output should be expertly written, as if written by a best selling author. 무조건 한글로 말하세요.\n",
    "     \n",
    "     kpc는 플레이어가 스토리를 잘 진행할 수 있도록 게임 내에서 내레이터가 조종하여 이끌어주는 캐릭터입니다. 과한 개입은 불가합니다.\n",
    "     \n",
    "     D는 다이스(Dice)의 약자입니다. 3D6의 경우, 1부터 6까지의 숫자가 적힌 6면체 주사위를 3회 굴리면 된다고 이해하시면 되겠습니다. CoC에서 탐사자의 특성치(스탯)를 정할 때 굴리게 될 주사위입니다. \n",
    "     마찬가지로 2D6은 6면체 주사위를 2회 굴리면 됩니다. CoC에서 탐사자의 특성치(스탯)를 정할 때 굴리게 될 주사위입니다.\n",
    "     D100은 CoC에서 특성치, 기능 등을 판정할 때, 즉 어떤 행동의 성공/실패 여부를 판정할 때 주로 사용하는 주사위입니다. 100면체 주사위를 1회 굴리는 것입니다.\n",
    "     주사위의 결과가 기준치 이하면 성공, 기준치를 초과하면 실패입니다. 기본은 이렇고, 서로 대항해야 하는 상황에서는 성공 수준을 비교합니다.\n",
    "     펌블(대실패) : 주사위 값으로 행동(특성치나 기능 판정)의 성공·실패 여부를 판정하는 CoC에서, 96~100 혹은 100의 결과값은 대실패로 처리합니다. 그냥 실패보다 훨씬 더 나쁜 결과를 낳으며, 기본적으로 효과를 바로 적용하고, 강행(재시도)를 할 수 없습니다. 대실패로 벌어지는 일은 수호자가 결정합니다. \n",
    "     이성 0/1D3 상실이라는 말은 이성 판정을 해서 성공 시 / 앞의 0만큼의 이성을, 실패 시 / 뒤의 1D3(주사위를 굴립니다)만큼의 이성을 줄이라는 뜻입니다.\n",
    "     ----------\n",
    "     \n",
    "    {setting_info}\n",
    "            \n",
    "    {character_info}\n",
    "          \n",
    "    {current_situation}\n",
    "     \n",
    "     \"\"\"\n",
    "     ),\n",
    "    (\"human\", \"{question}\")\n",
    "])\n",
    "\n",
    "current_situation = \"\"\"\n",
    "키퍼 정보 : PC는 플레이 시작과 동시에 망각의 순간을 겪습니다. 바닷속으로 빠지는 듯한 감각입니다.\n",
    "이후 PC가 바닷속으로 진입할 때마다 비슷한 상황을 연출해 주시면 유용합니다.\n",
    "발밑이 크게 흔들리더니 딛고 있던 것이 사라집니다.\n",
    "무언가 PC의 발목을 꽉 붙듭니다. 강한 인력 같은 힘이 발목을 쥐어짜듯 휘감아 당깁니다.\n",
    "아래로 쑥 빨려들어가는 느낌과 함께 어둑한 물이 온몸을 덮칩니다.\n",
    "어느덧 머리끝까지 잠긴 물 속에서 이상한 물체가 눈에 들어오기 시작합니다.\n",
    "다리, 몸통, …옷? 꼭 사람의 신체 같은 그것에서 거품이 오르고 있습니다.\n",
    "저것이 사람이고, 거품이 올라오고 있다면 아직 살아 있다는 뜻일 텐데….\n",
    "PC는 [정신력] 판정합니다.\n",
    "성공 : 흐릿한 현실감, 전혀 막혀 오지 않는 숨, 지나치게 비현실적인 풍경입니다. PC는 지금\n",
    "이 광경이 꿈이라는 사실을 자각합니다. 하지만 눈앞에 보이는 기괴한 풍경은 소름이 오를 만큼\n",
    "끔찍스러운 기분을 선사합니다.\n",
    "실패 : 정신이 흐려지더니 가물거리기 시작합니다. 발목이 끊어질 듯이 아파 오며 발목이\n",
    "끊어질 듯한 격통이 느껴집니다.\n",
    "기분 나쁜 느낌을 미처 떨쳐 버리지 못하고 비명을 지를 뻔했던 순간, PC는 눈을 뜹니다.\n",
    "노을빛 하늘이 보입니다. 물이라고는 처음부터 존재하지 않았던 것처럼 잠잠합니다. 아무래도 더럽게\n",
    "기분 나쁜 꿈이었던 모양이죠.\n",
    "노을진 하늘과 고운 자갈밭, 파도 치는 소리, 그리고 익숙한 기척.\n",
    "귀에 익은 목소리와 함께 PC는 눈을 뜹니다.\n",
    "키퍼 정보 : KPC는 PC가 단기 기억상실증을 동반하는 광기에 빠져 있다는 점을 알고 있습니다.\n",
    "PC를 안심시키는 대화를 진행해 주세요. PC가 어느 정도 안정을 찾았다면 다음으로\n",
    "진행됩니다.\n",
    "\"\"\"\n",
    "\n",
    "character_info = \"\"\"\n",
    "이름: 에이든 스파크\n",
    "나이: 27세\n",
    "직업: 대학생\n",
    "외모: 검은 곱슬머리, 갈색 눈, 시력이 나빠 안경을 착용\n",
    "성격: 호기심 많고 모험을 좋아하며, 약간 서툴지만 열정적\n",
    "특기: 기계 조작 및 제작\n",
    "\n",
    "정신력 : 10\n",
    "지능 : 7\n",
    "이성 : 10\n",
    "마력 : 0\n",
    "관찰력 : 7\n",
    "민첩 : 2\n",
    "\"\"\"\n",
    "\n",
    "# Use RunnableMap for parallel processing\n",
    "chain = RunnableMap({\n",
    "    \"setting_info\": retriever,\n",
    "    \"character_info\": lambda x: character_info,\n",
    "    \"current_situation\": lambda x: current_situation,\n",
    "    \"question\": RunnablePassthrough()\n",
    "}) | prompt | llm\n",
    "\n",
    "# Invoke the chain\n",
    "response = chain.invoke({\"question\": \"지금 무슨상황이야?\"})\n",
    "\n",
    "print(response)\n"
   ],
   "id": "66bd843fb620158d",
   "outputs": [
    {
     "name": "stderr",
     "output_type": "stream",
     "text": [
      "Created a chunk of size 790, which is longer than the specified 600\n"
     ]
    },
    {
     "ename": "TypeError",
     "evalue": "expected string or buffer",
     "output_type": "error",
     "traceback": [
      "\u001B[1;31m---------------------------------------------------------------------------\u001B[0m",
      "\u001B[1;31mTypeError\u001B[0m                                 Traceback (most recent call last)",
      "Cell \u001B[1;32mIn[4], line 121\u001B[0m\n\u001B[0;32m    113\u001B[0m chain \u001B[38;5;241m=\u001B[39m RunnableMap({\n\u001B[0;32m    114\u001B[0m     \u001B[38;5;124m\"\u001B[39m\u001B[38;5;124msetting_info\u001B[39m\u001B[38;5;124m\"\u001B[39m: retriever,\n\u001B[0;32m    115\u001B[0m     \u001B[38;5;124m\"\u001B[39m\u001B[38;5;124mcharacter_info\u001B[39m\u001B[38;5;124m\"\u001B[39m: \u001B[38;5;28;01mlambda\u001B[39;00m x: character_info,\n\u001B[0;32m    116\u001B[0m     \u001B[38;5;124m\"\u001B[39m\u001B[38;5;124mcurrent_situation\u001B[39m\u001B[38;5;124m\"\u001B[39m: \u001B[38;5;28;01mlambda\u001B[39;00m x: current_situation,\n\u001B[0;32m    117\u001B[0m     \u001B[38;5;124m\"\u001B[39m\u001B[38;5;124mquestion\u001B[39m\u001B[38;5;124m\"\u001B[39m: RunnablePassthrough()\n\u001B[0;32m    118\u001B[0m }) \u001B[38;5;241m|\u001B[39m prompt \u001B[38;5;241m|\u001B[39m llm\n\u001B[0;32m    120\u001B[0m \u001B[38;5;66;03m# Invoke the chain\u001B[39;00m\n\u001B[1;32m--> 121\u001B[0m response \u001B[38;5;241m=\u001B[39m \u001B[43mchain\u001B[49m\u001B[38;5;241;43m.\u001B[39;49m\u001B[43minvoke\u001B[49m\u001B[43m(\u001B[49m\u001B[43m{\u001B[49m\u001B[38;5;124;43m\"\u001B[39;49m\u001B[38;5;124;43mquestion\u001B[39;49m\u001B[38;5;124;43m\"\u001B[39;49m\u001B[43m:\u001B[49m\u001B[43m \u001B[49m\u001B[38;5;124;43m\"\u001B[39;49m\u001B[38;5;124;43m지금 무슨상황이야?\u001B[39;49m\u001B[38;5;124;43m\"\u001B[39;49m\u001B[43m}\u001B[49m\u001B[43m)\u001B[49m\n\u001B[0;32m    123\u001B[0m \u001B[38;5;28mprint\u001B[39m(response)\n",
      "File \u001B[1;32m~\\miniconda3\\envs\\langchain\\Lib\\site-packages\\langchain\\schema\\runnable\\base.py:1213\u001B[0m, in \u001B[0;36mRunnableSequence.invoke\u001B[1;34m(self, input, config)\u001B[0m\n\u001B[0;32m   1211\u001B[0m \u001B[38;5;28;01mtry\u001B[39;00m:\n\u001B[0;32m   1212\u001B[0m     \u001B[38;5;28;01mfor\u001B[39;00m i, step \u001B[38;5;129;01min\u001B[39;00m \u001B[38;5;28menumerate\u001B[39m(\u001B[38;5;28mself\u001B[39m\u001B[38;5;241m.\u001B[39msteps):\n\u001B[1;32m-> 1213\u001B[0m         \u001B[38;5;28minput\u001B[39m \u001B[38;5;241m=\u001B[39m \u001B[43mstep\u001B[49m\u001B[38;5;241;43m.\u001B[39;49m\u001B[43minvoke\u001B[49m\u001B[43m(\u001B[49m\n\u001B[0;32m   1214\u001B[0m \u001B[43m            \u001B[49m\u001B[38;5;28;43minput\u001B[39;49m\u001B[43m,\u001B[49m\n\u001B[0;32m   1215\u001B[0m \u001B[43m            \u001B[49m\u001B[38;5;66;43;03m# mark each step as a child run\u001B[39;49;00m\n\u001B[0;32m   1216\u001B[0m \u001B[43m            \u001B[49m\u001B[43mpatch_config\u001B[49m\u001B[43m(\u001B[49m\n\u001B[0;32m   1217\u001B[0m \u001B[43m                \u001B[49m\u001B[43mconfig\u001B[49m\u001B[43m,\u001B[49m\u001B[43m \u001B[49m\u001B[43mcallbacks\u001B[49m\u001B[38;5;241;43m=\u001B[39;49m\u001B[43mrun_manager\u001B[49m\u001B[38;5;241;43m.\u001B[39;49m\u001B[43mget_child\u001B[49m\u001B[43m(\u001B[49m\u001B[38;5;124;43mf\u001B[39;49m\u001B[38;5;124;43m\"\u001B[39;49m\u001B[38;5;124;43mseq:step:\u001B[39;49m\u001B[38;5;132;43;01m{\u001B[39;49;00m\u001B[43mi\u001B[49m\u001B[38;5;241;43m+\u001B[39;49m\u001B[38;5;241;43m1\u001B[39;49m\u001B[38;5;132;43;01m}\u001B[39;49;00m\u001B[38;5;124;43m\"\u001B[39;49m\u001B[43m)\u001B[49m\n\u001B[0;32m   1218\u001B[0m \u001B[43m            \u001B[49m\u001B[43m)\u001B[49m\u001B[43m,\u001B[49m\n\u001B[0;32m   1219\u001B[0m \u001B[43m        \u001B[49m\u001B[43m)\u001B[49m\n\u001B[0;32m   1220\u001B[0m \u001B[38;5;66;03m# finish the root run\u001B[39;00m\n\u001B[0;32m   1221\u001B[0m \u001B[38;5;28;01mexcept\u001B[39;00m \u001B[38;5;167;01mBaseException\u001B[39;00m \u001B[38;5;28;01mas\u001B[39;00m e:\n",
      "File \u001B[1;32m~\\miniconda3\\envs\\langchain\\Lib\\site-packages\\langchain\\schema\\runnable\\base.py:1724\u001B[0m, in \u001B[0;36mRunnableParallel.invoke\u001B[1;34m(self, input, config)\u001B[0m\n\u001B[0;32m   1711\u001B[0m     \u001B[38;5;28;01mwith\u001B[39;00m get_executor_for_config(config) \u001B[38;5;28;01mas\u001B[39;00m executor:\n\u001B[0;32m   1712\u001B[0m         futures \u001B[38;5;241m=\u001B[39m [\n\u001B[0;32m   1713\u001B[0m             executor\u001B[38;5;241m.\u001B[39msubmit(\n\u001B[0;32m   1714\u001B[0m                 step\u001B[38;5;241m.\u001B[39minvoke,\n\u001B[1;32m   (...)\u001B[0m\n\u001B[0;32m   1722\u001B[0m             \u001B[38;5;28;01mfor\u001B[39;00m key, step \u001B[38;5;129;01min\u001B[39;00m steps\u001B[38;5;241m.\u001B[39mitems()\n\u001B[0;32m   1723\u001B[0m         ]\n\u001B[1;32m-> 1724\u001B[0m         output \u001B[38;5;241m=\u001B[39m \u001B[43m{\u001B[49m\u001B[43mkey\u001B[49m\u001B[43m:\u001B[49m\u001B[43m \u001B[49m\u001B[43mfuture\u001B[49m\u001B[38;5;241;43m.\u001B[39;49m\u001B[43mresult\u001B[49m\u001B[43m(\u001B[49m\u001B[43m)\u001B[49m\u001B[43m \u001B[49m\u001B[38;5;28;43;01mfor\u001B[39;49;00m\u001B[43m \u001B[49m\u001B[43mkey\u001B[49m\u001B[43m,\u001B[49m\u001B[43m \u001B[49m\u001B[43mfuture\u001B[49m\u001B[43m \u001B[49m\u001B[38;5;129;43;01min\u001B[39;49;00m\u001B[43m \u001B[49m\u001B[38;5;28;43mzip\u001B[39;49m\u001B[43m(\u001B[49m\u001B[43msteps\u001B[49m\u001B[43m,\u001B[49m\u001B[43m \u001B[49m\u001B[43mfutures\u001B[49m\u001B[43m)\u001B[49m\u001B[43m}\u001B[49m\n\u001B[0;32m   1725\u001B[0m \u001B[38;5;66;03m# finish the root run\u001B[39;00m\n\u001B[0;32m   1726\u001B[0m \u001B[38;5;28;01mexcept\u001B[39;00m \u001B[38;5;167;01mBaseException\u001B[39;00m \u001B[38;5;28;01mas\u001B[39;00m e:\n",
      "File \u001B[1;32m~\\miniconda3\\envs\\langchain\\Lib\\site-packages\\langchain\\schema\\runnable\\base.py:1724\u001B[0m, in \u001B[0;36m<dictcomp>\u001B[1;34m(.0)\u001B[0m\n\u001B[0;32m   1711\u001B[0m     \u001B[38;5;28;01mwith\u001B[39;00m get_executor_for_config(config) \u001B[38;5;28;01mas\u001B[39;00m executor:\n\u001B[0;32m   1712\u001B[0m         futures \u001B[38;5;241m=\u001B[39m [\n\u001B[0;32m   1713\u001B[0m             executor\u001B[38;5;241m.\u001B[39msubmit(\n\u001B[0;32m   1714\u001B[0m                 step\u001B[38;5;241m.\u001B[39minvoke,\n\u001B[1;32m   (...)\u001B[0m\n\u001B[0;32m   1722\u001B[0m             \u001B[38;5;28;01mfor\u001B[39;00m key, step \u001B[38;5;129;01min\u001B[39;00m steps\u001B[38;5;241m.\u001B[39mitems()\n\u001B[0;32m   1723\u001B[0m         ]\n\u001B[1;32m-> 1724\u001B[0m         output \u001B[38;5;241m=\u001B[39m {key: \u001B[43mfuture\u001B[49m\u001B[38;5;241;43m.\u001B[39;49m\u001B[43mresult\u001B[49m\u001B[43m(\u001B[49m\u001B[43m)\u001B[49m \u001B[38;5;28;01mfor\u001B[39;00m key, future \u001B[38;5;129;01min\u001B[39;00m \u001B[38;5;28mzip\u001B[39m(steps, futures)}\n\u001B[0;32m   1725\u001B[0m \u001B[38;5;66;03m# finish the root run\u001B[39;00m\n\u001B[0;32m   1726\u001B[0m \u001B[38;5;28;01mexcept\u001B[39;00m \u001B[38;5;167;01mBaseException\u001B[39;00m \u001B[38;5;28;01mas\u001B[39;00m e:\n",
      "File \u001B[1;32m~\\miniconda3\\envs\\langchain\\Lib\\concurrent\\futures\\_base.py:456\u001B[0m, in \u001B[0;36mFuture.result\u001B[1;34m(self, timeout)\u001B[0m\n\u001B[0;32m    454\u001B[0m     \u001B[38;5;28;01mraise\u001B[39;00m CancelledError()\n\u001B[0;32m    455\u001B[0m \u001B[38;5;28;01melif\u001B[39;00m \u001B[38;5;28mself\u001B[39m\u001B[38;5;241m.\u001B[39m_state \u001B[38;5;241m==\u001B[39m FINISHED:\n\u001B[1;32m--> 456\u001B[0m     \u001B[38;5;28;01mreturn\u001B[39;00m \u001B[38;5;28;43mself\u001B[39;49m\u001B[38;5;241;43m.\u001B[39;49m\u001B[43m__get_result\u001B[49m\u001B[43m(\u001B[49m\u001B[43m)\u001B[49m\n\u001B[0;32m    457\u001B[0m \u001B[38;5;28;01melse\u001B[39;00m:\n\u001B[0;32m    458\u001B[0m     \u001B[38;5;28;01mraise\u001B[39;00m \u001B[38;5;167;01mTimeoutError\u001B[39;00m()\n",
      "File \u001B[1;32m~\\miniconda3\\envs\\langchain\\Lib\\concurrent\\futures\\_base.py:401\u001B[0m, in \u001B[0;36mFuture.__get_result\u001B[1;34m(self)\u001B[0m\n\u001B[0;32m    399\u001B[0m \u001B[38;5;28;01mif\u001B[39;00m \u001B[38;5;28mself\u001B[39m\u001B[38;5;241m.\u001B[39m_exception:\n\u001B[0;32m    400\u001B[0m     \u001B[38;5;28;01mtry\u001B[39;00m:\n\u001B[1;32m--> 401\u001B[0m         \u001B[38;5;28;01mraise\u001B[39;00m \u001B[38;5;28mself\u001B[39m\u001B[38;5;241m.\u001B[39m_exception\n\u001B[0;32m    402\u001B[0m     \u001B[38;5;28;01mfinally\u001B[39;00m:\n\u001B[0;32m    403\u001B[0m         \u001B[38;5;66;03m# Break a reference cycle with the exception in self._exception\u001B[39;00m\n\u001B[0;32m    404\u001B[0m         \u001B[38;5;28mself\u001B[39m \u001B[38;5;241m=\u001B[39m \u001B[38;5;28;01mNone\u001B[39;00m\n",
      "File \u001B[1;32m~\\miniconda3\\envs\\langchain\\Lib\\concurrent\\futures\\thread.py:58\u001B[0m, in \u001B[0;36m_WorkItem.run\u001B[1;34m(self)\u001B[0m\n\u001B[0;32m     55\u001B[0m     \u001B[38;5;28;01mreturn\u001B[39;00m\n\u001B[0;32m     57\u001B[0m \u001B[38;5;28;01mtry\u001B[39;00m:\n\u001B[1;32m---> 58\u001B[0m     result \u001B[38;5;241m=\u001B[39m \u001B[38;5;28;43mself\u001B[39;49m\u001B[38;5;241;43m.\u001B[39;49m\u001B[43mfn\u001B[49m\u001B[43m(\u001B[49m\u001B[38;5;241;43m*\u001B[39;49m\u001B[38;5;28;43mself\u001B[39;49m\u001B[38;5;241;43m.\u001B[39;49m\u001B[43margs\u001B[49m\u001B[43m,\u001B[49m\u001B[43m \u001B[49m\u001B[38;5;241;43m*\u001B[39;49m\u001B[38;5;241;43m*\u001B[39;49m\u001B[38;5;28;43mself\u001B[39;49m\u001B[38;5;241;43m.\u001B[39;49m\u001B[43mkwargs\u001B[49m\u001B[43m)\u001B[49m\n\u001B[0;32m     59\u001B[0m \u001B[38;5;28;01mexcept\u001B[39;00m \u001B[38;5;167;01mBaseException\u001B[39;00m \u001B[38;5;28;01mas\u001B[39;00m exc:\n\u001B[0;32m     60\u001B[0m     \u001B[38;5;28mself\u001B[39m\u001B[38;5;241m.\u001B[39mfuture\u001B[38;5;241m.\u001B[39mset_exception(exc)\n",
      "File \u001B[1;32m~\\miniconda3\\envs\\langchain\\Lib\\site-packages\\langchain\\schema\\retriever.py:112\u001B[0m, in \u001B[0;36mBaseRetriever.invoke\u001B[1;34m(self, input, config)\u001B[0m\n\u001B[0;32m    108\u001B[0m \u001B[38;5;28;01mdef\u001B[39;00m \u001B[38;5;21minvoke\u001B[39m(\n\u001B[0;32m    109\u001B[0m     \u001B[38;5;28mself\u001B[39m, \u001B[38;5;28minput\u001B[39m: \u001B[38;5;28mstr\u001B[39m, config: Optional[RunnableConfig] \u001B[38;5;241m=\u001B[39m \u001B[38;5;28;01mNone\u001B[39;00m\n\u001B[0;32m    110\u001B[0m ) \u001B[38;5;241m-\u001B[39m\u001B[38;5;241m>\u001B[39m List[Document]:\n\u001B[0;32m    111\u001B[0m     config \u001B[38;5;241m=\u001B[39m config \u001B[38;5;129;01mor\u001B[39;00m {}\n\u001B[1;32m--> 112\u001B[0m     \u001B[38;5;28;01mreturn\u001B[39;00m \u001B[38;5;28;43mself\u001B[39;49m\u001B[38;5;241;43m.\u001B[39;49m\u001B[43mget_relevant_documents\u001B[49m\u001B[43m(\u001B[49m\n\u001B[0;32m    113\u001B[0m \u001B[43m        \u001B[49m\u001B[38;5;28;43minput\u001B[39;49m\u001B[43m,\u001B[49m\n\u001B[0;32m    114\u001B[0m \u001B[43m        \u001B[49m\u001B[43mcallbacks\u001B[49m\u001B[38;5;241;43m=\u001B[39;49m\u001B[43mconfig\u001B[49m\u001B[38;5;241;43m.\u001B[39;49m\u001B[43mget\u001B[49m\u001B[43m(\u001B[49m\u001B[38;5;124;43m\"\u001B[39;49m\u001B[38;5;124;43mcallbacks\u001B[39;49m\u001B[38;5;124;43m\"\u001B[39;49m\u001B[43m)\u001B[49m\u001B[43m,\u001B[49m\n\u001B[0;32m    115\u001B[0m \u001B[43m        \u001B[49m\u001B[43mtags\u001B[49m\u001B[38;5;241;43m=\u001B[39;49m\u001B[43mconfig\u001B[49m\u001B[38;5;241;43m.\u001B[39;49m\u001B[43mget\u001B[49m\u001B[43m(\u001B[49m\u001B[38;5;124;43m\"\u001B[39;49m\u001B[38;5;124;43mtags\u001B[39;49m\u001B[38;5;124;43m\"\u001B[39;49m\u001B[43m)\u001B[49m\u001B[43m,\u001B[49m\n\u001B[0;32m    116\u001B[0m \u001B[43m        \u001B[49m\u001B[43mmetadata\u001B[49m\u001B[38;5;241;43m=\u001B[39;49m\u001B[43mconfig\u001B[49m\u001B[38;5;241;43m.\u001B[39;49m\u001B[43mget\u001B[49m\u001B[43m(\u001B[49m\u001B[38;5;124;43m\"\u001B[39;49m\u001B[38;5;124;43mmetadata\u001B[39;49m\u001B[38;5;124;43m\"\u001B[39;49m\u001B[43m)\u001B[49m\u001B[43m,\u001B[49m\n\u001B[0;32m    117\u001B[0m \u001B[43m        \u001B[49m\u001B[43mrun_name\u001B[49m\u001B[38;5;241;43m=\u001B[39;49m\u001B[43mconfig\u001B[49m\u001B[38;5;241;43m.\u001B[39;49m\u001B[43mget\u001B[49m\u001B[43m(\u001B[49m\u001B[38;5;124;43m\"\u001B[39;49m\u001B[38;5;124;43mrun_name\u001B[39;49m\u001B[38;5;124;43m\"\u001B[39;49m\u001B[43m)\u001B[49m\u001B[43m,\u001B[49m\n\u001B[0;32m    118\u001B[0m \u001B[43m    \u001B[49m\u001B[43m)\u001B[49m\n",
      "File \u001B[1;32m~\\miniconda3\\envs\\langchain\\Lib\\site-packages\\langchain\\schema\\retriever.py:211\u001B[0m, in \u001B[0;36mBaseRetriever.get_relevant_documents\u001B[1;34m(self, query, callbacks, tags, metadata, run_name, **kwargs)\u001B[0m\n\u001B[0;32m    209\u001B[0m \u001B[38;5;28;01mexcept\u001B[39;00m \u001B[38;5;167;01mException\u001B[39;00m \u001B[38;5;28;01mas\u001B[39;00m e:\n\u001B[0;32m    210\u001B[0m     run_manager\u001B[38;5;241m.\u001B[39mon_retriever_error(e)\n\u001B[1;32m--> 211\u001B[0m     \u001B[38;5;28;01mraise\u001B[39;00m e\n\u001B[0;32m    212\u001B[0m \u001B[38;5;28;01melse\u001B[39;00m:\n\u001B[0;32m    213\u001B[0m     run_manager\u001B[38;5;241m.\u001B[39mon_retriever_end(\n\u001B[0;32m    214\u001B[0m         result,\n\u001B[0;32m    215\u001B[0m         \u001B[38;5;241m*\u001B[39m\u001B[38;5;241m*\u001B[39mkwargs,\n\u001B[0;32m    216\u001B[0m     )\n",
      "File \u001B[1;32m~\\miniconda3\\envs\\langchain\\Lib\\site-packages\\langchain\\schema\\retriever.py:204\u001B[0m, in \u001B[0;36mBaseRetriever.get_relevant_documents\u001B[1;34m(self, query, callbacks, tags, metadata, run_name, **kwargs)\u001B[0m\n\u001B[0;32m    202\u001B[0m _kwargs \u001B[38;5;241m=\u001B[39m kwargs \u001B[38;5;28;01mif\u001B[39;00m \u001B[38;5;28mself\u001B[39m\u001B[38;5;241m.\u001B[39m_expects_other_args \u001B[38;5;28;01melse\u001B[39;00m {}\n\u001B[0;32m    203\u001B[0m \u001B[38;5;28;01mif\u001B[39;00m \u001B[38;5;28mself\u001B[39m\u001B[38;5;241m.\u001B[39m_new_arg_supported:\n\u001B[1;32m--> 204\u001B[0m     result \u001B[38;5;241m=\u001B[39m \u001B[38;5;28;43mself\u001B[39;49m\u001B[38;5;241;43m.\u001B[39;49m\u001B[43m_get_relevant_documents\u001B[49m\u001B[43m(\u001B[49m\n\u001B[0;32m    205\u001B[0m \u001B[43m        \u001B[49m\u001B[43mquery\u001B[49m\u001B[43m,\u001B[49m\u001B[43m \u001B[49m\u001B[43mrun_manager\u001B[49m\u001B[38;5;241;43m=\u001B[39;49m\u001B[43mrun_manager\u001B[49m\u001B[43m,\u001B[49m\u001B[43m \u001B[49m\u001B[38;5;241;43m*\u001B[39;49m\u001B[38;5;241;43m*\u001B[39;49m\u001B[43m_kwargs\u001B[49m\n\u001B[0;32m    206\u001B[0m \u001B[43m    \u001B[49m\u001B[43m)\u001B[49m\n\u001B[0;32m    207\u001B[0m \u001B[38;5;28;01melse\u001B[39;00m:\n\u001B[0;32m    208\u001B[0m     result \u001B[38;5;241m=\u001B[39m \u001B[38;5;28mself\u001B[39m\u001B[38;5;241m.\u001B[39m_get_relevant_documents(query, \u001B[38;5;241m*\u001B[39m\u001B[38;5;241m*\u001B[39m_kwargs)\n",
      "File \u001B[1;32m~\\miniconda3\\envs\\langchain\\Lib\\site-packages\\langchain\\schema\\vectorstore.py:657\u001B[0m, in \u001B[0;36mVectorStoreRetriever._get_relevant_documents\u001B[1;34m(self, query, run_manager)\u001B[0m\n\u001B[0;32m    653\u001B[0m \u001B[38;5;28;01mdef\u001B[39;00m \u001B[38;5;21m_get_relevant_documents\u001B[39m(\n\u001B[0;32m    654\u001B[0m     \u001B[38;5;28mself\u001B[39m, query: \u001B[38;5;28mstr\u001B[39m, \u001B[38;5;241m*\u001B[39m, run_manager: CallbackManagerForRetrieverRun\n\u001B[0;32m    655\u001B[0m ) \u001B[38;5;241m-\u001B[39m\u001B[38;5;241m>\u001B[39m List[Document]:\n\u001B[0;32m    656\u001B[0m     \u001B[38;5;28;01mif\u001B[39;00m \u001B[38;5;28mself\u001B[39m\u001B[38;5;241m.\u001B[39msearch_type \u001B[38;5;241m==\u001B[39m \u001B[38;5;124m\"\u001B[39m\u001B[38;5;124msimilarity\u001B[39m\u001B[38;5;124m\"\u001B[39m:\n\u001B[1;32m--> 657\u001B[0m         docs \u001B[38;5;241m=\u001B[39m \u001B[38;5;28;43mself\u001B[39;49m\u001B[38;5;241;43m.\u001B[39;49m\u001B[43mvectorstore\u001B[49m\u001B[38;5;241;43m.\u001B[39;49m\u001B[43msimilarity_search\u001B[49m\u001B[43m(\u001B[49m\u001B[43mquery\u001B[49m\u001B[43m,\u001B[49m\u001B[43m \u001B[49m\u001B[38;5;241;43m*\u001B[39;49m\u001B[38;5;241;43m*\u001B[39;49m\u001B[38;5;28;43mself\u001B[39;49m\u001B[38;5;241;43m.\u001B[39;49m\u001B[43msearch_kwargs\u001B[49m\u001B[43m)\u001B[49m\n\u001B[0;32m    658\u001B[0m     \u001B[38;5;28;01melif\u001B[39;00m \u001B[38;5;28mself\u001B[39m\u001B[38;5;241m.\u001B[39msearch_type \u001B[38;5;241m==\u001B[39m \u001B[38;5;124m\"\u001B[39m\u001B[38;5;124msimilarity_score_threshold\u001B[39m\u001B[38;5;124m\"\u001B[39m:\n\u001B[0;32m    659\u001B[0m         docs_and_similarities \u001B[38;5;241m=\u001B[39m (\n\u001B[0;32m    660\u001B[0m             \u001B[38;5;28mself\u001B[39m\u001B[38;5;241m.\u001B[39mvectorstore\u001B[38;5;241m.\u001B[39msimilarity_search_with_relevance_scores(\n\u001B[0;32m    661\u001B[0m                 query, \u001B[38;5;241m*\u001B[39m\u001B[38;5;241m*\u001B[39m\u001B[38;5;28mself\u001B[39m\u001B[38;5;241m.\u001B[39msearch_kwargs\n\u001B[0;32m    662\u001B[0m             )\n\u001B[0;32m    663\u001B[0m         )\n",
      "File \u001B[1;32m~\\miniconda3\\envs\\langchain\\Lib\\site-packages\\langchain\\vectorstores\\faiss.py:509\u001B[0m, in \u001B[0;36mFAISS.similarity_search\u001B[1;34m(self, query, k, filter, fetch_k, **kwargs)\u001B[0m\n\u001B[0;32m    489\u001B[0m \u001B[38;5;28;01mdef\u001B[39;00m \u001B[38;5;21msimilarity_search\u001B[39m(\n\u001B[0;32m    490\u001B[0m     \u001B[38;5;28mself\u001B[39m,\n\u001B[0;32m    491\u001B[0m     query: \u001B[38;5;28mstr\u001B[39m,\n\u001B[1;32m   (...)\u001B[0m\n\u001B[0;32m    495\u001B[0m     \u001B[38;5;241m*\u001B[39m\u001B[38;5;241m*\u001B[39mkwargs: Any,\n\u001B[0;32m    496\u001B[0m ) \u001B[38;5;241m-\u001B[39m\u001B[38;5;241m>\u001B[39m List[Document]:\n\u001B[0;32m    497\u001B[0m \u001B[38;5;250m    \u001B[39m\u001B[38;5;124;03m\"\"\"Return docs most similar to query.\u001B[39;00m\n\u001B[0;32m    498\u001B[0m \n\u001B[0;32m    499\u001B[0m \u001B[38;5;124;03m    Args:\u001B[39;00m\n\u001B[1;32m   (...)\u001B[0m\n\u001B[0;32m    507\u001B[0m \u001B[38;5;124;03m        List of Documents most similar to the query.\u001B[39;00m\n\u001B[0;32m    508\u001B[0m \u001B[38;5;124;03m    \"\"\"\u001B[39;00m\n\u001B[1;32m--> 509\u001B[0m     docs_and_scores \u001B[38;5;241m=\u001B[39m \u001B[38;5;28;43mself\u001B[39;49m\u001B[38;5;241;43m.\u001B[39;49m\u001B[43msimilarity_search_with_score\u001B[49m\u001B[43m(\u001B[49m\n\u001B[0;32m    510\u001B[0m \u001B[43m        \u001B[49m\u001B[43mquery\u001B[49m\u001B[43m,\u001B[49m\u001B[43m \u001B[49m\u001B[43mk\u001B[49m\u001B[43m,\u001B[49m\u001B[43m \u001B[49m\u001B[38;5;28;43mfilter\u001B[39;49m\u001B[38;5;241;43m=\u001B[39;49m\u001B[38;5;28;43mfilter\u001B[39;49m\u001B[43m,\u001B[49m\u001B[43m \u001B[49m\u001B[43mfetch_k\u001B[49m\u001B[38;5;241;43m=\u001B[39;49m\u001B[43mfetch_k\u001B[49m\u001B[43m,\u001B[49m\u001B[43m \u001B[49m\u001B[38;5;241;43m*\u001B[39;49m\u001B[38;5;241;43m*\u001B[39;49m\u001B[43mkwargs\u001B[49m\n\u001B[0;32m    511\u001B[0m \u001B[43m    \u001B[49m\u001B[43m)\u001B[49m\n\u001B[0;32m    512\u001B[0m     \u001B[38;5;28;01mreturn\u001B[39;00m [doc \u001B[38;5;28;01mfor\u001B[39;00m doc, _ \u001B[38;5;129;01min\u001B[39;00m docs_and_scores]\n",
      "File \u001B[1;32m~\\miniconda3\\envs\\langchain\\Lib\\site-packages\\langchain\\vectorstores\\faiss.py:390\u001B[0m, in \u001B[0;36mFAISS.similarity_search_with_score\u001B[1;34m(self, query, k, filter, fetch_k, **kwargs)\u001B[0m\n\u001B[0;32m    369\u001B[0m \u001B[38;5;28;01mdef\u001B[39;00m \u001B[38;5;21msimilarity_search_with_score\u001B[39m(\n\u001B[0;32m    370\u001B[0m     \u001B[38;5;28mself\u001B[39m,\n\u001B[0;32m    371\u001B[0m     query: \u001B[38;5;28mstr\u001B[39m,\n\u001B[1;32m   (...)\u001B[0m\n\u001B[0;32m    375\u001B[0m     \u001B[38;5;241m*\u001B[39m\u001B[38;5;241m*\u001B[39mkwargs: Any,\n\u001B[0;32m    376\u001B[0m ) \u001B[38;5;241m-\u001B[39m\u001B[38;5;241m>\u001B[39m List[Tuple[Document, \u001B[38;5;28mfloat\u001B[39m]]:\n\u001B[0;32m    377\u001B[0m \u001B[38;5;250m    \u001B[39m\u001B[38;5;124;03m\"\"\"Return docs most similar to query.\u001B[39;00m\n\u001B[0;32m    378\u001B[0m \n\u001B[0;32m    379\u001B[0m \u001B[38;5;124;03m    Args:\u001B[39;00m\n\u001B[1;32m   (...)\u001B[0m\n\u001B[0;32m    388\u001B[0m \u001B[38;5;124;03m        L2 distance in float. Lower score represents more similarity.\u001B[39;00m\n\u001B[0;32m    389\u001B[0m \u001B[38;5;124;03m    \"\"\"\u001B[39;00m\n\u001B[1;32m--> 390\u001B[0m     embedding \u001B[38;5;241m=\u001B[39m \u001B[38;5;28;43mself\u001B[39;49m\u001B[38;5;241;43m.\u001B[39;49m\u001B[43m_embed_query\u001B[49m\u001B[43m(\u001B[49m\u001B[43mquery\u001B[49m\u001B[43m)\u001B[49m\n\u001B[0;32m    391\u001B[0m     docs \u001B[38;5;241m=\u001B[39m \u001B[38;5;28mself\u001B[39m\u001B[38;5;241m.\u001B[39msimilarity_search_with_score_by_vector(\n\u001B[0;32m    392\u001B[0m         embedding,\n\u001B[0;32m    393\u001B[0m         k,\n\u001B[1;32m   (...)\u001B[0m\n\u001B[0;32m    396\u001B[0m         \u001B[38;5;241m*\u001B[39m\u001B[38;5;241m*\u001B[39mkwargs,\n\u001B[0;32m    397\u001B[0m     )\n\u001B[0;32m    398\u001B[0m     \u001B[38;5;28;01mreturn\u001B[39;00m docs\n",
      "File \u001B[1;32m~\\miniconda3\\envs\\langchain\\Lib\\site-packages\\langchain\\vectorstores\\faiss.py:153\u001B[0m, in \u001B[0;36mFAISS._embed_query\u001B[1;34m(self, text)\u001B[0m\n\u001B[0;32m    151\u001B[0m \u001B[38;5;28;01mdef\u001B[39;00m \u001B[38;5;21m_embed_query\u001B[39m(\u001B[38;5;28mself\u001B[39m, text: \u001B[38;5;28mstr\u001B[39m) \u001B[38;5;241m-\u001B[39m\u001B[38;5;241m>\u001B[39m List[\u001B[38;5;28mfloat\u001B[39m]:\n\u001B[0;32m    152\u001B[0m     \u001B[38;5;28;01mif\u001B[39;00m \u001B[38;5;28misinstance\u001B[39m(\u001B[38;5;28mself\u001B[39m\u001B[38;5;241m.\u001B[39membedding_function, Embeddings):\n\u001B[1;32m--> 153\u001B[0m         \u001B[38;5;28;01mreturn\u001B[39;00m \u001B[38;5;28;43mself\u001B[39;49m\u001B[38;5;241;43m.\u001B[39;49m\u001B[43membedding_function\u001B[49m\u001B[38;5;241;43m.\u001B[39;49m\u001B[43membed_query\u001B[49m\u001B[43m(\u001B[49m\u001B[43mtext\u001B[49m\u001B[43m)\u001B[49m\n\u001B[0;32m    154\u001B[0m     \u001B[38;5;28;01melse\u001B[39;00m:\n\u001B[0;32m    155\u001B[0m         \u001B[38;5;28;01mreturn\u001B[39;00m \u001B[38;5;28mself\u001B[39m\u001B[38;5;241m.\u001B[39membedding_function(text)\n",
      "File \u001B[1;32m~\\miniconda3\\envs\\langchain\\Lib\\site-packages\\langchain\\embeddings\\cache.py:147\u001B[0m, in \u001B[0;36mCacheBackedEmbeddings.embed_query\u001B[1;34m(self, text)\u001B[0m\n\u001B[0;32m    129\u001B[0m \u001B[38;5;28;01mdef\u001B[39;00m \u001B[38;5;21membed_query\u001B[39m(\u001B[38;5;28mself\u001B[39m, text: \u001B[38;5;28mstr\u001B[39m) \u001B[38;5;241m-\u001B[39m\u001B[38;5;241m>\u001B[39m List[\u001B[38;5;28mfloat\u001B[39m]:\n\u001B[0;32m    130\u001B[0m \u001B[38;5;250m    \u001B[39m\u001B[38;5;124;03m\"\"\"Embed query text.\u001B[39;00m\n\u001B[0;32m    131\u001B[0m \n\u001B[0;32m    132\u001B[0m \u001B[38;5;124;03m    This method does not support caching at the moment.\u001B[39;00m\n\u001B[1;32m   (...)\u001B[0m\n\u001B[0;32m    145\u001B[0m \u001B[38;5;124;03m        The embedding for the given text.\u001B[39;00m\n\u001B[0;32m    146\u001B[0m \u001B[38;5;124;03m    \"\"\"\u001B[39;00m\n\u001B[1;32m--> 147\u001B[0m     \u001B[38;5;28;01mreturn\u001B[39;00m \u001B[38;5;28;43mself\u001B[39;49m\u001B[38;5;241;43m.\u001B[39;49m\u001B[43munderlying_embeddings\u001B[49m\u001B[38;5;241;43m.\u001B[39;49m\u001B[43membed_query\u001B[49m\u001B[43m(\u001B[49m\u001B[43mtext\u001B[49m\u001B[43m)\u001B[49m\n",
      "File \u001B[1;32m~\\miniconda3\\envs\\langchain\\Lib\\site-packages\\langchain\\embeddings\\openai.py:577\u001B[0m, in \u001B[0;36mOpenAIEmbeddings.embed_query\u001B[1;34m(self, text)\u001B[0m\n\u001B[0;32m    568\u001B[0m \u001B[38;5;28;01mdef\u001B[39;00m \u001B[38;5;21membed_query\u001B[39m(\u001B[38;5;28mself\u001B[39m, text: \u001B[38;5;28mstr\u001B[39m) \u001B[38;5;241m-\u001B[39m\u001B[38;5;241m>\u001B[39m List[\u001B[38;5;28mfloat\u001B[39m]:\n\u001B[0;32m    569\u001B[0m \u001B[38;5;250m    \u001B[39m\u001B[38;5;124;03m\"\"\"Call out to OpenAI's embedding endpoint for embedding query text.\u001B[39;00m\n\u001B[0;32m    570\u001B[0m \n\u001B[0;32m    571\u001B[0m \u001B[38;5;124;03m    Args:\u001B[39;00m\n\u001B[1;32m   (...)\u001B[0m\n\u001B[0;32m    575\u001B[0m \u001B[38;5;124;03m        Embedding for the text.\u001B[39;00m\n\u001B[0;32m    576\u001B[0m \u001B[38;5;124;03m    \"\"\"\u001B[39;00m\n\u001B[1;32m--> 577\u001B[0m     \u001B[38;5;28;01mreturn\u001B[39;00m \u001B[38;5;28;43mself\u001B[39;49m\u001B[38;5;241;43m.\u001B[39;49m\u001B[43membed_documents\u001B[49m\u001B[43m(\u001B[49m\u001B[43m[\u001B[49m\u001B[43mtext\u001B[49m\u001B[43m]\u001B[49m\u001B[43m)\u001B[49m[\u001B[38;5;241m0\u001B[39m]\n",
      "File \u001B[1;32m~\\miniconda3\\envs\\langchain\\Lib\\site-packages\\langchain\\embeddings\\openai.py:549\u001B[0m, in \u001B[0;36mOpenAIEmbeddings.embed_documents\u001B[1;34m(self, texts, chunk_size)\u001B[0m\n\u001B[0;32m    537\u001B[0m \u001B[38;5;250m\u001B[39m\u001B[38;5;124;03m\"\"\"Call out to OpenAI's embedding endpoint for embedding search docs.\u001B[39;00m\n\u001B[0;32m    538\u001B[0m \n\u001B[0;32m    539\u001B[0m \u001B[38;5;124;03mArgs:\u001B[39;00m\n\u001B[1;32m   (...)\u001B[0m\n\u001B[0;32m    545\u001B[0m \u001B[38;5;124;03m    List of embeddings, one for each text.\u001B[39;00m\n\u001B[0;32m    546\u001B[0m \u001B[38;5;124;03m\"\"\"\u001B[39;00m\n\u001B[0;32m    547\u001B[0m \u001B[38;5;66;03m# NOTE: to keep things simple, we assume the list may contain texts longer\u001B[39;00m\n\u001B[0;32m    548\u001B[0m \u001B[38;5;66;03m#       than the maximum context and use length-safe embedding function.\u001B[39;00m\n\u001B[1;32m--> 549\u001B[0m \u001B[38;5;28;01mreturn\u001B[39;00m \u001B[38;5;28;43mself\u001B[39;49m\u001B[38;5;241;43m.\u001B[39;49m\u001B[43m_get_len_safe_embeddings\u001B[49m\u001B[43m(\u001B[49m\u001B[43mtexts\u001B[49m\u001B[43m,\u001B[49m\u001B[43m \u001B[49m\u001B[43mengine\u001B[49m\u001B[38;5;241;43m=\u001B[39;49m\u001B[38;5;28;43mself\u001B[39;49m\u001B[38;5;241;43m.\u001B[39;49m\u001B[43mdeployment\u001B[49m\u001B[43m)\u001B[49m\n",
      "File \u001B[1;32m~\\miniconda3\\envs\\langchain\\Lib\\site-packages\\langchain\\embeddings\\openai.py:403\u001B[0m, in \u001B[0;36mOpenAIEmbeddings._get_len_safe_embeddings\u001B[1;34m(self, texts, engine, chunk_size)\u001B[0m\n\u001B[0;32m    399\u001B[0m \u001B[38;5;28;01mif\u001B[39;00m \u001B[38;5;28mself\u001B[39m\u001B[38;5;241m.\u001B[39mmodel\u001B[38;5;241m.\u001B[39mendswith(\u001B[38;5;124m\"\u001B[39m\u001B[38;5;124m001\u001B[39m\u001B[38;5;124m\"\u001B[39m):\n\u001B[0;32m    400\u001B[0m     \u001B[38;5;66;03m# See: https://github.com/openai/openai-python/issues/418#issuecomment-1525939500\u001B[39;00m\n\u001B[0;32m    401\u001B[0m     \u001B[38;5;66;03m# replace newlines, which can negatively affect performance.\u001B[39;00m\n\u001B[0;32m    402\u001B[0m     text \u001B[38;5;241m=\u001B[39m text\u001B[38;5;241m.\u001B[39mreplace(\u001B[38;5;124m\"\u001B[39m\u001B[38;5;130;01m\\n\u001B[39;00m\u001B[38;5;124m\"\u001B[39m, \u001B[38;5;124m\"\u001B[39m\u001B[38;5;124m \u001B[39m\u001B[38;5;124m\"\u001B[39m)\n\u001B[1;32m--> 403\u001B[0m token \u001B[38;5;241m=\u001B[39m \u001B[43mencoding\u001B[49m\u001B[38;5;241;43m.\u001B[39;49m\u001B[43mencode\u001B[49m\u001B[43m(\u001B[49m\n\u001B[0;32m    404\u001B[0m \u001B[43m    \u001B[49m\u001B[43mtext\u001B[49m\u001B[43m,\u001B[49m\n\u001B[0;32m    405\u001B[0m \u001B[43m    \u001B[49m\u001B[43mallowed_special\u001B[49m\u001B[38;5;241;43m=\u001B[39;49m\u001B[38;5;28;43mself\u001B[39;49m\u001B[38;5;241;43m.\u001B[39;49m\u001B[43mallowed_special\u001B[49m\u001B[43m,\u001B[49m\n\u001B[0;32m    406\u001B[0m \u001B[43m    \u001B[49m\u001B[43mdisallowed_special\u001B[49m\u001B[38;5;241;43m=\u001B[39;49m\u001B[38;5;28;43mself\u001B[39;49m\u001B[38;5;241;43m.\u001B[39;49m\u001B[43mdisallowed_special\u001B[49m\u001B[43m,\u001B[49m\n\u001B[0;32m    407\u001B[0m \u001B[43m\u001B[49m\u001B[43m)\u001B[49m\n\u001B[0;32m    408\u001B[0m \u001B[38;5;28;01mfor\u001B[39;00m j \u001B[38;5;129;01min\u001B[39;00m \u001B[38;5;28mrange\u001B[39m(\u001B[38;5;241m0\u001B[39m, \u001B[38;5;28mlen\u001B[39m(token), \u001B[38;5;28mself\u001B[39m\u001B[38;5;241m.\u001B[39membedding_ctx_length):\n\u001B[0;32m    409\u001B[0m     tokens\u001B[38;5;241m.\u001B[39mappend(token[j : j \u001B[38;5;241m+\u001B[39m \u001B[38;5;28mself\u001B[39m\u001B[38;5;241m.\u001B[39membedding_ctx_length])\n",
      "File \u001B[1;32m~\\miniconda3\\envs\\langchain\\Lib\\site-packages\\tiktoken\\core.py:116\u001B[0m, in \u001B[0;36mEncoding.encode\u001B[1;34m(self, text, allowed_special, disallowed_special)\u001B[0m\n\u001B[0;32m    114\u001B[0m     \u001B[38;5;28;01mif\u001B[39;00m \u001B[38;5;129;01mnot\u001B[39;00m \u001B[38;5;28misinstance\u001B[39m(disallowed_special, \u001B[38;5;28mfrozenset\u001B[39m):\n\u001B[0;32m    115\u001B[0m         disallowed_special \u001B[38;5;241m=\u001B[39m \u001B[38;5;28mfrozenset\u001B[39m(disallowed_special)\n\u001B[1;32m--> 116\u001B[0m     \u001B[38;5;28;01mif\u001B[39;00m match \u001B[38;5;241m:=\u001B[39m \u001B[43m_special_token_regex\u001B[49m\u001B[43m(\u001B[49m\u001B[43mdisallowed_special\u001B[49m\u001B[43m)\u001B[49m\u001B[38;5;241;43m.\u001B[39;49m\u001B[43msearch\u001B[49m\u001B[43m(\u001B[49m\u001B[43mtext\u001B[49m\u001B[43m)\u001B[49m:\n\u001B[0;32m    117\u001B[0m         raise_disallowed_special_token(match\u001B[38;5;241m.\u001B[39mgroup())\n\u001B[0;32m    119\u001B[0m \u001B[38;5;28;01mtry\u001B[39;00m:\n",
      "\u001B[1;31mTypeError\u001B[0m: expected string or buffer"
     ]
    }
   ],
   "execution_count": 4
  },
  {
   "metadata": {
    "ExecuteTime": {
     "end_time": "2024-07-23T07:20:18.128275Z",
     "start_time": "2024-07-23T07:20:10.773233Z"
    }
   },
   "cell_type": "code",
   "source": [
    "from dotenv import load_dotenv\n",
    "from langchain.chat_models import ChatOpenAI\n",
    "from langchain.document_loaders import UnstructuredFileLoader\n",
    "from langchain.text_splitter import CharacterTextSplitter\n",
    "from langchain.embeddings import OpenAIEmbeddings, CacheBackedEmbeddings\n",
    "from langchain.vectorstores import FAISS\n",
    "from langchain.storage import LocalFileStore\n",
    "from langchain.chains import RetrievalQA\n",
    "from langchain.prompts import ChatPromptTemplate\n",
    "from langchain.schema.runnable import RunnablePassthrough, RunnableMap\n",
    "\n",
    "# 환경 변수 로드\n",
    "load_dotenv()\n",
    "\n",
    "# OpenAI API 키 설정\n",
    "OPENAI_API_KEY = \"OPENAI_API_KEY\"\n",
    "\n",
    "# ChatOpenAI 모델 초기화\n",
    "llm = ChatOpenAI(\n",
    "    temperature=0.5\n",
    ")\n",
    "\n",
    "cache_dir = LocalFileStore(\"./cache/\")\n",
    "\n",
    "splitter = CharacterTextSplitter.from_tiktoken_encoder(\n",
    "    separator=\"\\n\", \n",
    "    chunk_size=600,\n",
    "    chunk_overlap=100,\n",
    ")\n",
    "\n",
    "loader = UnstructuredFileLoader(\"./story/파도와_망각.pdf\")\n",
    "\n",
    "docs = loader.load_and_split(text_splitter=splitter)\n",
    "\n",
    "embeddings = OpenAIEmbeddings()\n",
    "\n",
    "cached_embeddings = CacheBackedEmbeddings.from_bytes_store(\n",
    "    embeddings, cache_dir\n",
    ")\n",
    "\n",
    "vectorstore = FAISS.from_documents(docs, cached_embeddings)\n",
    "\n",
    "retriever = vectorstore.as_retriever()\n",
    "\n",
    "prompt = ChatPromptTemplate.from_messages([\n",
    "    (\"system\",\n",
    "     \"\"\"\n",
    "     Act as a Narrator of a text based adventure game. Your task is to describe the environment and supporting characters. Use direct speech when support characters are speaking. There is a Player controlling the actions and speech of their player character (PC). You may never act or speak for the player character. The game proceeds in turns between the Narrator describing the situation and the player saying what the player character is doing. When speaking about the player character, use second-person point of view. Your output should be expertly written, as if written by a best selling author. 무조건 한글로 말하세요.\n",
    "     \n",
    "     kpc는 플레이어가 스토리를 잘 진행할 수 있도록 게임 내에서 내레이터가 조종하여 이끌어주는 캐릭터입니다. 과한 개입은 불가합니다.\n",
    "     \n",
    "     D는 다이스(Dice)의 약자입니다. 3D6의 경우, 1부터 6까지의 숫자가 적힌 6면체 주사위를 3회 굴리면 된다고 이해하시면 되겠습니다. CoC에서 탐사자의 특성치(스탯)를 정할 때 굴리게 될 주사위입니다. \n",
    "     마찬가지로 2D6은 6면체 주사위를 2회 굴리면 됩니다. CoC에서 탐사자의 특성치(스탯)를 정할 때 굴리게 될 주사위입니다.\n",
    "     D100은 CoC에서 특성치, 기능 등을 판정할 때, 즉 어떤 행동의 성공/실패 여부를 판정할 때 주로 사용하는 주사위입니다. 100면체 주사위를 1회 굴리는 것입니다.\n",
    "     주사위의 결과가 기준치 이하면 성공, 기준치를 초과하면 실패입니다. 기본은 이렇고, 서로 대항해야 하는 상황에서는 성공 수준을 비교합니다.\n",
    "     펌블(대실패) : 주사위 값으로 행동(특성치나 기능 판정)의 성공·실패 여부를 판정하는 CoC에서, 96~100 혹은 100의 결과값은 대실패로 처리합니다. 그냥 실패보다 훨씬 더 나쁜 결과를 낳으며, 기본적으로 효과를 바로 적용하고, 강행(재시도)를 할 수 없습니다. 대실패로 벌어지는 일은 수호자가 결정합니다. \n",
    "     이성 0/1D3 상실이라는 말은 이성 판정을 해서 성공 시 / 앞의 0만큼의 이성을, 실패 시 / 뒤의 1D3(주사위를 굴립니다)만큼의 이성을 줄이라는 뜻입니다.\n",
    "     \n",
    "     판정을 굴릴 때 주사위를 굴리고 그에따른 주사위 결과도 출력하라.\n",
    "     ----------\n",
    "     \n",
    "    {setting_info}\n",
    "            \n",
    "    이름: 에이든 스파크\n",
    "    나이: 27세\n",
    "    직업: 대학생\n",
    "    외모: 검은 곱슬머리, 갈색 눈, 시력이 나빠 안경을 착용\n",
    "    성격: 호기심 많고 모험을 좋아하며, 약간 서툴지만 열정적\n",
    "    특기: 기계 조작 및 제작\n",
    "    \n",
    "    정신력 : 10\n",
    "    지능 : 7\n",
    "    이성 : 10\n",
    "    마력 : 0\n",
    "    관찰력 : 7\n",
    "    민첩 : 2\n",
    "          \n",
    "    키퍼 정보 : PC는 플레이 시작과 동시에 망각의 순간을 겪습니다. 바닷속으로 빠지는 듯한 감각입니다.\n",
    "    이후 PC가 바닷속으로 진입할 때마다 비슷한 상황을 연출해 주시면 유용합니다.\n",
    "    발밑이 크게 흔들리더니 딛고 있던 것이 사라집니다.\n",
    "    무언가 PC의 발목을 꽉 붙듭니다. 강한 인력 같은 힘이 발목을 쥐어짜듯 휘감아 당깁니다.\n",
    "    아래로 쑥 빨려들어가는 느낌과 함께 어둑한 물이 온몸을 덮칩니다.\n",
    "    어느덧 머리끝까지 잠긴 물 속에서 이상한 물체가 눈에 들어오기 시작합니다.\n",
    "    다리, 몸통, …옷? 꼭 사람의 신체 같은 그것에서 거품이 오르고 있습니다.\n",
    "    저것이 사람이고, 거품이 올라오고 있다면 아직 살아 있다는 뜻일 텐데….\n",
    "    PC는 [정신력] 판정합니다.\n",
    "    성공 : 흐릿한 현실감, 전혀 막혀 오지 않는 숨, 지나치게 비현실적인 풍경입니다. PC는 지금\n",
    "    이 광경이 꿈이라는 사실을 자각합니다. 하지만 눈앞에 보이는 기괴한 풍경은 소름이 오를 만큼\n",
    "    끔찍스러운 기분을 선사합니다.\n",
    "    실패 : 정신이 흐려지더니 가물거리기 시작합니다. 발목이 끊어질 듯이 아파 오며 발목이\n",
    "    끊어질 듯한 격통이 느껴집니다.\n",
    "    기분 나쁜 느낌을 미처 떨쳐 버리지 못하고 비명을 지를 뻔했던 순간, PC는 눈을 뜹니다.\n",
    "    노을빛 하늘이 보입니다. 물이라고는 처음부터 존재하지 않았던 것처럼 잠잠합니다. 아무래도 더럽게\n",
    "    기분 나쁜 꿈이었던 모양이죠.\n",
    "    노을진 하늘과 고운 자갈밭, 파도 치는 소리, 그리고 익숙한 기척.\n",
    "    귀에 익은 목소리와 함께 PC는 눈을 뜹니다.\n",
    "    키퍼 정보 : KPC는 PC가 단기 기억상실증을 동반하는 광기에 빠져 있다는 점을 알고 있습니다.\n",
    "    PC를 안심시키는 대화를 진행해 주세요. PC가 어느 정도 안정을 찾았다면 다음으로\n",
    "    진행됩니다.\n",
    "     \n",
    "     \"\"\"\n",
    "     ),\n",
    "    (\"human\", \"{question}\")\n",
    "])\n",
    "\n",
    "\n",
    "# Use RunnableMap for parallel processing\n",
    "chain = {\"setting_info\":retriever, \"question\" : RunnablePassthrough()} | prompt | llm\n",
    "\n",
    "# Invoke the chain\n",
    "response = chain.invoke(\"정신력 판정을 굴린다\")\n",
    "\n",
    "print(response)\n"
   ],
   "id": "b8e6eba2bc9c9dbf",
   "outputs": [
    {
     "name": "stderr",
     "output_type": "stream",
     "text": [
      "Created a chunk of size 790, which is longer than the specified 600\n"
     ]
    },
    {
     "name": "stdout",
     "output_type": "stream",
     "text": [
      "content='당신은 정신력 판정을 위해 1D100을 굴렸습니다. 결과는 52입니다. 이는 당신의 정신력 수치인 10보다 작습니다. 따라서 판정에 실패했습니다. \\n\\n당신은 정신이 흐려지더니 가물거리기 시작합니다. 발목이 끊어질 듯이 아파 오며 발목이 끊어질 듯한 격통이 느껴집니다. 기분 나쁜 느낌을 미처 떨쳐 버리지 못하고 비명을 지를 뻔했던 순간, 당신은 눈을 뜹니다.\\n\\n노을빛 하늘이 보입니다. 물이라고는 처음부터 존재하지 않았던 것처럼 잠잠합니다. 아무래도 더럽게 기분 나쁜 꿈이었던 모양이죠.\\n\\n노을진 하늘과 고운 자갈밭, 파도 치는 소리, 그리고 익숙한 기척. \\n\\n귀에 익은 목소리와 함께 당신은 눈을 뜹니다. 키퍼는 당신이 단기 기억상실증을 동반하는 광기에 빠져 있다는 것을 알고 있습니다. 안심시키는 대화를 통해 당신이 조금이나마 안정을 찾았다면 다음 상황으로 진행됩니다.'\n"
     ]
    }
   ],
   "execution_count": 12
  },
  {
   "metadata": {},
   "cell_type": "code",
   "outputs": [],
   "execution_count": null,
   "source": "",
   "id": "43af098423dd0c3e"
  }
 ],
 "metadata": {
  "kernelspec": {
   "display_name": "Python 3",
   "language": "python",
   "name": "python3"
  },
  "language_info": {
   "codemirror_mode": {
    "name": "ipython",
    "version": 2
   },
   "file_extension": ".py",
   "mimetype": "text/x-python",
   "name": "python",
   "nbconvert_exporter": "python",
   "pygments_lexer": "ipython2",
   "version": "2.7.6"
  }
 },
 "nbformat": 4,
 "nbformat_minor": 5
}
