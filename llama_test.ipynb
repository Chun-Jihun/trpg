{
 "cells": [
  {
   "metadata": {},
   "cell_type": "markdown",
   "source": "# 라마로 테스트",
   "id": "e97b616610ece4a6"
  },
  {
   "metadata": {},
   "cell_type": "code",
   "outputs": [
    {
     "data": {
      "text/plain": [
       "AIMessage(content='😊\\n\\n\"서울\" (Seoul) is the capital city of South Korea. It is a megacity with a population of over 10 million people, making it one of the most populous cities in the world.\\n\\nSeoul is known for its rich history and culture, dating back to the 18th century when it was the capital of the Joseon Dynasty. Today, it is a modern city with a vibrant economy, cutting-edge technology, and a blend of traditional and contemporary architecture.\\n\\nSome popular attractions in Seoul include:\\n\\n1. Gyeongbokgung Palace: The largest and most iconic palace in Korea.\\n2. Bukchon Hanok Village: A traditional Korean village with preserved hanok houses.\\n3. Myeong-dong Shopping District: One of the busiest shopping areas in Asia.\\n4. Namsan Tower (Seoul Tower): A popular spot for panoramic views of the city.\\n5. Insadong Street: A famous street filled with traditional tea houses, shops, and restaurants.\\n\\nSeoul is also known for its food scene, with popular dishes like bibimbap, bulgogi, and kimchi stew. And let\\'s not forget about the K-pop culture, with many idol groups and entertainment companies based in Seoul! 🎶\\n\\nOverall, Seoul is a fascinating city that offers a unique blend of traditional and modern culture, history, and entertainment. 💥', response_metadata={'model': 'llama3:latest', 'created_at': '2024-07-18T10:07:55.5097578Z', 'message': {'role': 'assistant', 'content': ''}, 'done_reason': 'stop', 'done': True, 'total_duration': 7185934800, 'load_duration': 4627964800, 'prompt_eval_count': 14, 'prompt_eval_duration': 17051000, 'eval_count': 286, 'eval_duration': 2533293000}, id='run-300d4652-42b8-4826-b6ba-728d34fad461-0')"
      ]
     },
     "execution_count": 1,
     "metadata": {},
     "output_type": "execute_result"
    }
   ],
   "execution_count": 1,
   "source": [
    "# #ollama 서버 실행중인지 확인\n",
    "# from langchain_community.chat_models import ChatOllama\n",
    "# \n",
    "# llm = ChatOllama(model=\"llama3:latest\")\n",
    "# llm.invoke(\"서울이란?\")"
   ],
   "id": "initial_id"
  },
  {
   "metadata": {
    "ExecuteTime": {
     "end_time": "2024-07-18T10:07:59.184467Z",
     "start_time": "2024-07-18T10:07:55.523234Z"
    }
   },
   "cell_type": "code",
   "source": [
    "# #prompt template\n",
    "# from langchain_core.prompts import ChatPromptTemplate\n",
    "# \n",
    "# prompt = ChatPromptTemplate.from_messages([\n",
    "#     (\"system\", \"You are a helpful, professional assistant named 권봇. Introduce yourself first, and answer the questions. answer me in Korean no matter what. \"),\n",
    "#     (\"user\", \"{input}\")\n",
    "# ])\n",
    "# \n",
    "# chain = prompt | llm\n",
    "# chain.invoke({\"input\": \"What is stock??\"})"
   ],
   "id": "26d83a1be70aafe1",
   "outputs": [
    {
     "data": {
      "text/plain": [
       "AIMessage(content=\"😊\\n\\n스톡(stock)입니다. STOCK는 회사의 주식이나 자본을 의미합니다. 즉, 특정 회사에 대한 지분이나 권리를 나타내는 증서입니다. 일반적으로 투자자들은股票을 구입하여 해당 회사의 성장으로부터 이익을 얻습니다. STOCK는 주로 주식시장에서 교환되며, 이를 통해 투자자들은 다양한 회사의 주식을 구입하거나 판매할 수 있습니다.\\n\\n(Translation: Stock is a company's stock or capital. It means the share or right to a specific company. Generally, investors buy stocks and gain benefits from the growth of that company. Stocks are traded on the stock market, allowing investors to purchase or sell shares of various companies.)\", response_metadata={'model': 'llama3:latest', 'created_at': '2024-07-18T10:07:59.1804134Z', 'message': {'role': 'assistant', 'content': ''}, 'done_reason': 'stop', 'done': True, 'total_duration': 1530939500, 'load_duration': 3622800, 'prompt_eval_count': 48, 'prompt_eval_duration': 47954000, 'eval_count': 157, 'eval_duration': 1477965000}, id='run-f3a4a1ea-b004-4644-97cc-a8560e688add-0')"
      ]
     },
     "execution_count": 2,
     "metadata": {},
     "output_type": "execute_result"
    }
   ],
   "execution_count": 2
  },
  {
   "metadata": {
    "ExecuteTime": {
     "end_time": "2024-07-18T10:08:01.962212Z",
     "start_time": "2024-07-18T10:07:59.185464Z"
    }
   },
   "cell_type": "code",
   "source": [
    "# #output parser사용\n",
    "# from langchain_core.output_parsers import StrOutputParser\n",
    "# \n",
    "# chain = prompt | llm | StrOutputParser()\n",
    "# chain.invoke({\"input\": \"What is stock?\"})"
   ],
   "id": "6005aae7914cef8c",
   "outputs": [
    {
     "data": {
      "text/plain": [
       "'😊\\n\\n스톡(stock)란 기업의 주식 또는 자본을 의미합니다. 즉, 특정 기업이 발행한 주식을 말하는 것입니다. 이 주식은 투자자들이 기업의 성장 가능성을 예상하여 구입하거나 판매할 수 있는 증권입니다.'"
      ]
     },
     "execution_count": 3,
     "metadata": {},
     "output_type": "execute_result"
    }
   ],
   "execution_count": 3
  },
  {
   "metadata": {
    "ExecuteTime": {
     "end_time": "2024-07-18T10:08:05.075994Z",
     "start_time": "2024-07-18T10:08:01.963209Z"
    }
   },
   "cell_type": "code",
   "source": [
    "# #체인 스트림 출력\n",
    "# chain = prompt | llm | StrOutputParser()\n",
    "# for token in chain.stream(\n",
    "#     {\"input\": \"What is stock?\"}\n",
    "# ):\n",
    "#     print(token, end=\"\")"
   ],
   "id": "7653855c0af510d4",
   "outputs": [
    {
     "name": "stdout",
     "output_type": "stream",
     "text": [
      "😊\n",
      "\n",
      " stocks, or, , are shares of ownership in a company that represent a claim on part of its assets and profits. In other words, stocks give you a small piece of a company's equity, allowing you to participate in its growth and success.\n",
      "\n",
      "Stocks can be traded on stock exchanges like the Korea Exchange (KRX) or over-the-counter markets, providing investors with an opportunity to buy and sell shares in various companies.\n",
      "\n",
      "Do you have any other questions about stocks?"
     ]
    }
   ],
   "execution_count": 4
  },
  {
   "metadata": {
    "ExecuteTime": {
     "end_time": "2024-07-18T10:08:12.750175Z",
     "start_time": "2024-07-18T10:08:05.076991Z"
    }
   },
   "cell_type": "code",
   "source": [
    "# # 첫번째 체인\n",
    "# prompt1 = ChatPromptTemplate.from_template(\"[{korean_input}] translate the question into English. Don't say anything else, just translate it.\")\n",
    "# chain1 = (\n",
    "#     prompt1 \n",
    "#     | llm \n",
    "#     | StrOutputParser()\n",
    "# )\n",
    "# message1 = chain1.invoke({\"korean_input\": \"주식이 뭐야?\"})\n",
    "# print(f'message1: {message1}') # What is a stock?\n",
    "# \n",
    "# # 두번째 체인\n",
    "# prompt2 = ChatPromptTemplate.from_messages([\n",
    "#     (\"system\", \"You are a helpful, professional assistant named 권봇. answer the question in Korean\"),\n",
    "#     (\"user\", \"{input}\")\n",
    "# ])\n",
    "# chain2 = (\n",
    "#     {\"input\": chain1}\n",
    "#     | prompt2\n",
    "#     | llm\n",
    "#     | StrOutputParser()\n",
    "# )\n",
    "# message2 = chain2.invoke({\"korean_input\": \"주식이 뭐야?\"})\n",
    "# print(f'message2: {message2}') # 주식은 한 회사의 소유권을 나타내는 증권입니다. 즉, 특정 기업에 투자하여 (중략)"
   ],
   "id": "a8c9c391c50c7d9a",
   "outputs": [
    {
     "name": "stdout",
     "output_type": "stream",
     "text": [
      "message1: \"What is stock?\"\n",
      "message2: 😊\n",
      "\n",
      "식권(stock)은 일정한 조건에 따라 발행된 주식을 의미합니다. 주식은 기업의 자산을 구성하는 부분 중 하나로, 주주가 지분을 가질 수 있는 증서를 말합니다. 주식은 주당 가격으로 매매되며, 주주는 해당 주식의 소유권을 갖게 됩니다.\n",
      "\n",
      "(Translation: Stock refers to a certain type of security that is issued under specific conditions. Stocks are part of a company's assets and represent ownership stakes in the business. Stock prices are traded on an exchange, and shareholders own the corresponding stocks.)\n"
     ]
    }
   ],
   "execution_count": 5
  },
  {
   "metadata": {
    "ExecuteTime": {
     "end_time": "2024-07-18T10:08:15.887730Z",
     "start_time": "2024-07-18T10:08:12.751172Z"
    }
   },
   "cell_type": "code",
   "source": [
    "# #체인 병렬 실행\n",
    "# from langchain_core.runnables import RunnableParallel\n",
    "# joke_chain = (\n",
    "#     ChatPromptTemplate.from_template(\"{topic}에 관련해서 짧은 농담 말해줘\") \n",
    "#     | llm)\n",
    "# poem_chain = (\n",
    "#     ChatPromptTemplate.from_template(\"{topic}에 관련해서 시 2줄 써줘\") \n",
    "#     | llm)\n",
    "# \n",
    "# # map_chain = {\"joke\": joke_chain, \"poem\": poem_chain} # 체인에서 이처럼 사용할 때, 자동으로 RunnableParallel 사용됨\n",
    "# # map_chain = RunnableParallel({\"joke\": joke_chain, \"poem\": poem_chain})\n",
    "# map_chain = RunnableParallel(joke=joke_chain, poem=poem_chain)\n",
    "# \n",
    "# map_chain.invoke({\"topic\": \"애플\"})"
   ],
   "id": "5ab298db73bbc9e",
   "outputs": [
    {
     "data": {
      "text/plain": [
       "{'joke': AIMessage(content=\"Here's a short Apple-related joke:\\n\\nWhy did the Apple employee break up with his girlfriend?\\n\\nBecause he needed more space... and a better battery life! 🤣🍎\", response_metadata={'model': 'llama3:latest', 'created_at': '2024-07-18T10:08:15.8757367Z', 'message': {'role': 'assistant', 'content': ''}, 'done_reason': 'stop', 'done': True, 'total_duration': 1078639400, 'load_duration': 1520900, 'prompt_eval_count': 14, 'prompt_eval_duration': 14051000, 'eval_count': 38, 'eval_duration': 336061000}, id='run-0856d868-7623-43a6-817f-e44dcc257b0f-0'),\n",
       " 'poem': AIMessage(content=\"Here are two lines about Apple:\\n\\nInnovative designs and user-friendly interfaces have made Apple a household name, with the iPhone revolutionizing the way we communicate. From Macs to iPads, Apple's ecosystem has become an integral part of modern life, shaping the tech industry for decades to come.\", response_metadata={'model': 'llama3:latest', 'created_at': '2024-07-18T10:08:15.5197738Z', 'message': {'role': 'assistant', 'content': ''}, 'done_reason': 'stop', 'done': True, 'total_duration': 722676500, 'load_duration': 1014700, 'prompt_eval_count': 23, 'prompt_eval_duration': 43259000, 'eval_count': 61, 'eval_duration': 676922000}, id='run-31411f27-7e48-451b-b1ee-0ef50183e009-0')}"
      ]
     },
     "execution_count": 6,
     "metadata": {},
     "output_type": "execute_result"
    }
   ],
   "execution_count": 6
  },
  {
   "metadata": {},
   "cell_type": "markdown",
   "source": "# GPT 3.5-turbo로 테스트",
   "id": "ece2be8051366109"
  },
  {
   "metadata": {
    "ExecuteTime": {
     "end_time": "2024-07-23T04:36:13.048945Z",
     "start_time": "2024-07-23T04:36:03.042070Z"
    }
   },
   "cell_type": "code",
   "source": [
    "from dotenv import load_dotenv\n",
    "from langchain.llms import OpenAI\n",
    "from langchain.chat_models import ChatOpenAI\n",
    "from langchain.prompts import ChatPromptTemplate\n",
    "from langchain.schema.runnable import RunnableLambda\n",
    "\n",
    "# 환경 변수 로드\n",
    "load_dotenv()\n",
    "\n",
    "# OpenAI API 키 설정\n",
    "OPENAI_API_KEY = \"OPENAI_API_KEY\"\n",
    "\n",
    "# ChatOpenAI 모델 초기화\n",
    "chat = ChatOpenAI(model=\"gpt-4\", temperature=0.1)\n",
    "\n",
    "# 프롬프트 템플릿 설정\n",
    "template = ChatPromptTemplate.from_messages(\n",
    "    [\n",
    "        (\n",
    "            \"system\",\n",
    "            \"\"\"\n",
    "            텍스트 기반 어드벤처 게임의 내레이터 역할을 하세요. 당신의 임무는 환경과 보조 캐릭터를 묘사하는 것입니다. 보조 캐릭터가 말할 때는 직접 화법을 사용하세요. 플레이어가 플레이어 캐릭터(PC)의 행동과 대사를 조종합니다. 플레이어 캐릭터를 대신해 행동하거나 말해서는 안 됩니다. 내레이터가 상황을 묘사하고 플레이어가 플레이어 캐릭터의 행동을 말하는 식으로 턴이 진행됩니다. 플레이어 캐릭터에 대해 이야기할 때는 2인칭 시점을 사용하세요. 당신의 출력은 베스트셀러 작가가 쓴 것처럼 전문적으로 작성되어야 합니다.\n",
    "            -------\n",
    "                        \n",
    "            {setting_info}\n",
    "            \n",
    "            {character_info}\n",
    "            \n",
    "            {current_situation}\n",
    "            \"\"\",\n",
    "        ),\n",
    "        (\"human\", \"{question}\"),\n",
    "    ]\n",
    ")\n",
    "\n",
    "# 설정 정보\n",
    "setting_info = \"\"\"\n",
    "세계관: 스팀펑크와 마법이 공존하는 빅토리아 시대 스타일의 세계\n",
    "주요 도시: 네블린 - 거대한 시계탑과 증기 기관이 가득한 산업화된 도시\n",
    "정치 체제: 마법사 의회와 기술자 길드가 공동으로 통치\n",
    "주요 갈등: 마법과 기술의 균형을 둘러싼 긴장 관계\n",
    "특이사항: 하늘을 나는 증기선, 마법으로 작동하는 자동인형, 차원 간 여행이 가능한 포털\n",
    "\"\"\"\n",
    "\n",
    "# 캐릭터 정보\n",
    "character_info = \"\"\"\n",
    "이름: 에이든 스파크\n",
    "나이: 27세\n",
    "직업: 마법공학자 견습생\n",
    "외모: 붉은 곱슬머리, 녹색 눈, 항상 고글을 착용\n",
    "성격: 호기심 많고 모험을 좋아하며, 약간 서툴지만 열정적\n",
    "특기: 마법과 기계를 결합한 발명품 제작\n",
    "목표: 마법과 기술을 완벽하게 융합한 획기적인 발명품 만들기\n",
    "소지품: 다용도 마법 렌치, 증기력 소형 비행 장치\n",
    "\"\"\"\n",
    "\n",
    "# 현재 상황\n",
    "current_situation = \"\"\"\n",
    "당신은 네블린 시의 중심부, 거대한 시계탑 아래에 있는 붐비는 시장에 서 있습니다. 증기 기관의 윙윙거리는 소리와 마법 부적들이 짤랑거리는 소리가 공기를 가득 채우고 있습니다. 갑자기 하늘에서 이상한 폭발음이 들리고, 사람들이 놀라 위를 올려다봅니다. 무언가가 빠르게 떨어지고 있는 것 같습니다. 시장 광장에 있는 사람들은 혼란에 빠져 흩어지기 시작합니다. 당신의 발명품을 시연하러 가는 중이었지만, 이 갑작스러운 상황에 어떻게 대처해야 할지 고민하고 있습니다.\n",
    "\"\"\"\n",
    "\n",
    "# RunnableLambda를 사용하여 텍스트 전달\n",
    "temp_chain = {\n",
    "    \"setting_info\": RunnableLambda(lambda _: setting_info),\n",
    "    \"character_info\": RunnableLambda(lambda _: character_info),\n",
    "    \"current_situation\": RunnableLambda(lambda _: current_situation),\n",
    "    \"question\": RunnableLambda(lambda _: \"폭발음을 조사한다.\")\n",
    "} | template | chat\n",
    "\n",
    "# 체인 실행\n",
    "response = temp_chain.invoke({})\n",
    "print(response)\n"
   ],
   "id": "ccdd92cbbd996c75",
   "outputs": [
    {
     "name": "stderr",
     "output_type": "stream",
     "text": [
      "C:\\Users\\mmc\\miniconda3\\envs\\trpg\\lib\\site-packages\\langchain_core\\_api\\deprecation.py:139: LangChainDeprecationWarning: The class `ChatOpenAI` was deprecated in LangChain 0.0.10 and will be removed in 0.3.0. An updated version of the class exists in the langchain-openai package and should be used instead. To use it run `pip install -U langchain-openai` and import as `from langchain_openai import ChatOpenAI`.\n",
      "  warn_deprecated(\n"
     ]
    },
    {
     "name": "stdout",
     "output_type": "stream",
     "text": [
      "content='당신은 시장 광장을 빠져나와 폭발음이 들려온 방향으로 달려갑니다. 거리를 따라 달리면서, 당신은 먼 거리에서 불길이 치솟는 것을 볼 수 있습니다. 그곳에 도착하면, 당신은 놀라운 장면을 목격합니다. 하늘에서 떨어진 것은 바로 하늘을 나는 증기선이었습니다. 그것은 건물의 지붕을 뚫고 불길 속에 빠져 있었습니다.\\n\\n\"저런, 저 증기선은 \\'하늘의 눈물\\'이라는 이름의 유명한 증기선이야. 어떻게 저런 일이...\" 당신 옆에서 한 남자가 속삭이듯 말합니다. 그의 얼굴은 놀라움과 슬픔으로 일그러져 있습니다.' response_metadata={'token_usage': {'completion_tokens': 282, 'prompt_tokens': 966, 'total_tokens': 1248}, 'model_name': 'gpt-4', 'system_fingerprint': None, 'finish_reason': 'stop', 'logprobs': None} id='run-129b8099-31ab-43ed-9646-f1841e2895c3-0'\n"
     ]
    }
   ],
   "execution_count": 2
  },
  {
   "metadata": {
    "ExecuteTime": {
     "end_time": "2024-07-22T12:29:30.907457Z",
     "start_time": "2024-07-22T12:29:30.881544Z"
    }
   },
   "cell_type": "code",
   "source": [
    "from langchain.prompts.chat import HumanMessagePromptTemplate, SystemMessagePromptTemplate\n",
    "\n",
    "\n",
    "prompt = ChatPromptTemplate.from_messages([\n",
    "    SystemMessagePromptTemplate.from_template(\"{instructions}\"),\n",
    "    HumanMessagePromptTemplate.from_template(\"{text}\")\n",
    "])\n",
    "\n",
    "instructions = \"\"\"\n",
    "텍스트 기반 어드벤처 게임의 내레이터 역할을 하세요. 당신의 임무는 환경과 보조 캐릭터를 묘사하는 것입니다. 보조 캐릭터가 말할 때는 직접 화법을 사용하세요. 플레이어가 플레이어 캐릭터(PC)의 행동과 대사를 조종합니다. 플레이어 캐릭터를 대신해 행동하거나 말해서는 안 됩니다. 내레이터가 상황을 묘사하고 플레이어가 플레이어 캐릭터의 행동을 말하는 식으로 턴이 진행됩니다. 플레이어 캐릭터에 대해 이야기할 때는 2인칭 시점을 사용하세요. 당신의 출력은 베스트셀러 작가가 쓴 것처럼 전문적으로 작성되어야 합니다.\n",
    "\"\"\"\n",
    "\n",
    "setting_info=\"\"\"\n",
    "세계관: 스팀펑크와 마법이 공존하는 빅토리아 시대 스타일의 세계\n",
    "주요 도시: 네블린 - 거대한 시계탑과 증기 기관이 가득한 산업화된 도시\n",
    "정치 체제: 마법사 의회와 기술자 길드가 공동으로 통치\n",
    "주요 갈등: 마법과 기술의 균형을 둘러싼 긴장 관계\n",
    "특이사항: 하늘을 나는 증기선, 마법으로 작동하는 자동인형, 차원 간 여행이 가능한 포털\n",
    "\"\"\"\n",
    "\n",
    "character_info = \"\"\"\n",
    "이름: 에이든 스파크\n",
    "나이: 27세\n",
    "직업: 마법공학자 견습생\n",
    "외모: 붉은 곱슬머리, 녹색 눈, 항상 고글을 착용\n",
    "성격: 호기심 많고 모험을 좋아하며, 약간 서툴지만 열정적\n",
    "특기: 마법과 기계를 결합한 발명품 제작\n",
    "목표: 마법과 기술을 완벽하게 융합한 획기적인 발명품 만들기\n",
    "소지품: 다용도 마법 렌치, 증기력 소형 비행 장치\n",
    "\"\"\"\n",
    "\n",
    "current_situation=\"\"\"\n",
    "당신은 네블린 시의 중심부, 거대한 시계탑 아래에 있는 붐비는 시장에 서 있습니다. 증기 기관의 윙윙거리는 소리와 마법 부적들이 짤랑거리는 소리가 공기를 가득 채우고 있습니다. 갑자기 하늘에서 이상한 폭발음이 들리고, 사람들이 놀라 위를 올려다봅니다. 무언가가 빠르게 떨어지고 있는 것 같습니다. 시장 광장에 있는 사람들은 혼란에 빠져 흩어지기 시작합니다. 당신의 발명품을 시연하러 가는 중이었지만, 이 갑작스러운 상황에 어떻게 대처해야 할지 고민하고 있습니다.\n",
    "\"\"\"\n",
    "\n",
    "query_system = instructions\n",
    "\n",
    "query = f\"\"\"\n",
    "# Instructions\n",
    "{instructions}\n",
    "\n",
    "# Setting\n",
    "{setting_info}\n",
    "\n",
    "# # Character\n",
    "{character_info}\n",
    "\n",
    "# Currently\n",
    "## Scene\n",
    "{current_situation}\n",
    "\n",
    "Narrator:\n",
    "    \"\"\"\n",
    "OPENAI_API_KEY = \"OPENAI_API_KEY\"\n",
    "\n",
    "story_model = ChatOpenAI(model=\"gpt-4\",)\n",
    "\n",
    "response = story_model(prompt.format_prompt(instructions=query_system, text=query).to_messages(), stop=[\"Player:\"])"
   ],
   "id": "66bd843fb620158d",
   "outputs": [
    {
     "ename": "ValidationError",
     "evalue": "1 validation error for SystemMessagePromptTemplate\nprompt\n  Can't instantiate abstract class StringPromptTemplate with abstract method format (type=type_error)",
     "output_type": "error",
     "traceback": [
      "\u001B[1;31m---------------------------------------------------------------------------\u001B[0m",
      "\u001B[1;31mValidationError\u001B[0m                           Traceback (most recent call last)",
      "Cell \u001B[1;32mIn[9], line 5\u001B[0m\n\u001B[0;32m      1\u001B[0m \u001B[38;5;28;01mfrom\u001B[39;00m \u001B[38;5;21;01mlangchain\u001B[39;00m\u001B[38;5;21;01m.\u001B[39;00m\u001B[38;5;21;01mprompts\u001B[39;00m\u001B[38;5;21;01m.\u001B[39;00m\u001B[38;5;21;01mchat\u001B[39;00m \u001B[38;5;28;01mimport\u001B[39;00m HumanMessagePromptTemplate, SystemMessagePromptTemplate\n\u001B[0;32m      4\u001B[0m prompt \u001B[38;5;241m=\u001B[39m ChatPromptTemplate\u001B[38;5;241m.\u001B[39mfrom_messages([\n\u001B[1;32m----> 5\u001B[0m     \u001B[43mSystemMessagePromptTemplate\u001B[49m\u001B[38;5;241;43m.\u001B[39;49m\u001B[43mfrom_template\u001B[49m\u001B[43m(\u001B[49m\u001B[38;5;124;43m\"\u001B[39;49m\u001B[38;5;132;43;01m{instructions}\u001B[39;49;00m\u001B[38;5;124;43m\"\u001B[39;49m\u001B[43m)\u001B[49m,\n\u001B[0;32m      6\u001B[0m     HumanMessagePromptTemplate\u001B[38;5;241m.\u001B[39mfrom_template(\u001B[38;5;124m\"\u001B[39m\u001B[38;5;132;01m{text}\u001B[39;00m\u001B[38;5;124m\"\u001B[39m)\n\u001B[0;32m      7\u001B[0m ])\n\u001B[0;32m      9\u001B[0m instructions \u001B[38;5;241m=\u001B[39m \u001B[38;5;124m\"\"\"\u001B[39m\n\u001B[0;32m     10\u001B[0m \u001B[38;5;124m텍스트 기반 어드벤처 게임의 내레이터 역할을 하세요. 당신의 임무는 환경과 보조 캐릭터를 묘사하는 것입니다. 보조 캐릭터가 말할 때는 직접 화법을 사용하세요. 플레이어가 플레이어 캐릭터(PC)의 행동과 대사를 조종합니다. 플레이어 캐릭터를 대신해 행동하거나 말해서는 안 됩니다. 내레이터가 상황을 묘사하고 플레이어가 플레이어 캐릭터의 행동을 말하는 식으로 턴이 진행됩니다. 플레이어 캐릭터에 대해 이야기할 때는 2인칭 시점을 사용하세요. 당신의 출력은 베스트셀러 작가가 쓴 것처럼 전문적으로 작성되어야 합니다.\u001B[39m\n\u001B[0;32m     11\u001B[0m \u001B[38;5;124m\"\"\"\u001B[39m\n\u001B[0;32m     13\u001B[0m setting_info\u001B[38;5;241m=\u001B[39m\u001B[38;5;124m\"\"\"\u001B[39m\n\u001B[0;32m     14\u001B[0m \u001B[38;5;124m세계관: 스팀펑크와 마법이 공존하는 빅토리아 시대 스타일의 세계\u001B[39m\n\u001B[0;32m     15\u001B[0m \u001B[38;5;124m주요 도시: 네블린 - 거대한 시계탑과 증기 기관이 가득한 산업화된 도시\u001B[39m\n\u001B[1;32m   (...)\u001B[0m\n\u001B[0;32m     18\u001B[0m \u001B[38;5;124m특이사항: 하늘을 나는 증기선, 마법으로 작동하는 자동인형, 차원 간 여행이 가능한 포털\u001B[39m\n\u001B[0;32m     19\u001B[0m \u001B[38;5;124m\"\"\"\u001B[39m\n",
      "File \u001B[1;32m~\\miniconda3\\envs\\trpg\\lib\\site-packages\\langchain\\prompts\\chat.py:155\u001B[0m, in \u001B[0;36mBaseStringMessagePromptTemplate.from_template\u001B[1;34m(cls, template, template_format, **kwargs)\u001B[0m\n\u001B[0;32m    144\u001B[0m \u001B[38;5;250m\u001B[39m\u001B[38;5;124;03m\"\"\"Create a class from a string template.\u001B[39;00m\n\u001B[0;32m    145\u001B[0m \n\u001B[0;32m    146\u001B[0m \u001B[38;5;124;03mArgs:\u001B[39;00m\n\u001B[1;32m   (...)\u001B[0m\n\u001B[0;32m    152\u001B[0m \u001B[38;5;124;03m    A new instance of this class.\u001B[39;00m\n\u001B[0;32m    153\u001B[0m \u001B[38;5;124;03m\"\"\"\u001B[39;00m\n\u001B[0;32m    154\u001B[0m prompt \u001B[38;5;241m=\u001B[39m PromptTemplate\u001B[38;5;241m.\u001B[39mfrom_template(template, template_format\u001B[38;5;241m=\u001B[39mtemplate_format)\n\u001B[1;32m--> 155\u001B[0m \u001B[38;5;28;01mreturn\u001B[39;00m \u001B[38;5;28mcls\u001B[39m(prompt\u001B[38;5;241m=\u001B[39mprompt, \u001B[38;5;241m*\u001B[39m\u001B[38;5;241m*\u001B[39mkwargs)\n",
      "File \u001B[1;32m~\\miniconda3\\envs\\trpg\\lib\\site-packages\\langchain\\load\\serializable.py:74\u001B[0m, in \u001B[0;36mSerializable.__init__\u001B[1;34m(self, **kwargs)\u001B[0m\n\u001B[0;32m     73\u001B[0m \u001B[38;5;28;01mdef\u001B[39;00m \u001B[38;5;21m__init__\u001B[39m(\u001B[38;5;28mself\u001B[39m, \u001B[38;5;241m*\u001B[39m\u001B[38;5;241m*\u001B[39mkwargs: Any) \u001B[38;5;241m-\u001B[39m\u001B[38;5;241m>\u001B[39m \u001B[38;5;28;01mNone\u001B[39;00m:\n\u001B[1;32m---> 74\u001B[0m     \u001B[38;5;28msuper\u001B[39m()\u001B[38;5;241m.\u001B[39m\u001B[38;5;21m__init__\u001B[39m(\u001B[38;5;241m*\u001B[39m\u001B[38;5;241m*\u001B[39mkwargs)\n\u001B[0;32m     75\u001B[0m     \u001B[38;5;28mself\u001B[39m\u001B[38;5;241m.\u001B[39m_lc_kwargs \u001B[38;5;241m=\u001B[39m kwargs\n",
      "File \u001B[1;32m~\\miniconda3\\envs\\trpg\\lib\\site-packages\\pydantic\\v1\\main.py:341\u001B[0m, in \u001B[0;36mBaseModel.__init__\u001B[1;34m(__pydantic_self__, **data)\u001B[0m\n\u001B[0;32m    339\u001B[0m values, fields_set, validation_error \u001B[38;5;241m=\u001B[39m validate_model(__pydantic_self__\u001B[38;5;241m.\u001B[39m\u001B[38;5;18m__class__\u001B[39m, data)\n\u001B[0;32m    340\u001B[0m \u001B[38;5;28;01mif\u001B[39;00m validation_error:\n\u001B[1;32m--> 341\u001B[0m     \u001B[38;5;28;01mraise\u001B[39;00m validation_error\n\u001B[0;32m    342\u001B[0m \u001B[38;5;28;01mtry\u001B[39;00m:\n\u001B[0;32m    343\u001B[0m     object_setattr(__pydantic_self__, \u001B[38;5;124m'\u001B[39m\u001B[38;5;124m__dict__\u001B[39m\u001B[38;5;124m'\u001B[39m, values)\n",
      "\u001B[1;31mValidationError\u001B[0m: 1 validation error for SystemMessagePromptTemplate\nprompt\n  Can't instantiate abstract class StringPromptTemplate with abstract method format (type=type_error)"
     ]
    }
   ],
   "execution_count": 9
  },
  {
   "metadata": {
    "ExecuteTime": {
     "end_time": "2024-07-22T16:56:30.473334Z",
     "start_time": "2024-07-22T16:56:30.408551Z"
    }
   },
   "cell_type": "code",
   "source": [
    "from langchain.chat_models import ChatOpenAI\n",
    "from langchain.schema import SystemMessage, HumanMessage, AIMessage\n",
    "\n",
    "# 지침 메시지\n",
    "instructions = \"\"\"\n",
    "텍스트 기반 어드벤처 게임의 내레이터 역할을 하세요. 당신의 임무는 환경과 보조 캐릭터를 묘사하는 것입니다. 보조 캐릭터가 말할 때는 직접 화법을 사용하세요. 플레이어가 플레이어 캐릭터(PC)의 행동과 대사를 조종합니다. 플레이어 캐릭터를 대신해 행동하거나 말해서는 안 됩니다. 내레이터가 상황을 묘사하고 플레이어가 플레이어 캐릭터의 행동을 말하는 식으로 턴이 진행됩니다. 플레이어 캐릭터에 대해 이야기할 때는 2인칭 시점을 사용하세요. 당신의 출력은 베스트셀러 작가가 쓴 것처럼 전문적으로 작성되어야 합니다.\n",
    "\"\"\"\n",
    "\n",
    "# 설정 정보\n",
    "setting_info = \"\"\"\n",
    "세계관: 스팀펑크와 마법이 공존하는 빅토리아 시대 스타일의 세계\n",
    "주요 도시: 네블린 - 거대한 시계탑과 증기 기관이 가득한 산업화된 도시\n",
    "정치 체제: 마법사 의회와 기술자 길드가 공동으로 통치\n",
    "주요 갈등: 마법과 기술의 균형을 둘러싼 긴장 관계\n",
    "특이사항: 하늘을 나는 증기선, 마법으로 작동하는 자동인형, 차원 간 여행이 가능한 포털\n",
    "\"\"\"\n",
    "\n",
    "# 캐릭터 정보\n",
    "character_info = \"\"\"\n",
    "이름: 에이든 스파크\n",
    "나이: 27세\n",
    "직업: 마법공학자 견습생\n",
    "외모: 붉은 곱슬머리, 녹색 눈, 항상 고글을 착용\n",
    "성격: 호기심 많고 모험을 좋아하며, 약간 서툴지만 열정적\n",
    "특기: 마법과 기계를 결합한 발명품 제작\n",
    "목표: 마법과 기술을 완벽하게 융합한 획기적인 발명품 만들기\n",
    "소지품: 다용도 마법 렌치, 증기력 소형 비행 장치\n",
    "\"\"\"\n",
    "\n",
    "# 현재 상황\n",
    "current_situation = \"\"\"\n",
    "당신은 네블린 시의 중심부, 거대한 시계탑 아래에 있는 붐비는 시장에 서 있습니다. 증기 기관의 윙윙거리는 소리와 마법 부적들이 짤랑거리는 소리가 공기를 가득 채우고 있습니다. 갑자기 하늘에서 이상한 폭발음이 들리고, 사람들이 놀라 위를 올려다봅니다. 무언가가 빠르게 떨어지고 있는 것 같습니다. 시장 광장에 있는 사람들은 혼란에 빠져 흩어지기 시작합니다. 당신의 발명품을 시연하러 가는 중이었지만, 이 갑작스러운 상황에 어떻게 대처해야 할지 고민하고 있습니다.\n",
    "\"\"\"\n",
    "\n",
    "# ChatOpenAI 모델을 초기화합니다.\n",
    "story_model = ChatOpenAI(model=\"gpt-4\", openai_api_key=\"YOUR_OPENAI_API_KEY\")\n",
    "\n",
    "# 메시지를 생성합니다.\n",
    "messages = [\n",
    "    SystemMessage(content=instructions),\n",
    "    HumanMessage(content=f\"\"\"\n",
    "    # Setting\n",
    "    {setting_info}\n",
    "\n",
    "    # Character\n",
    "    {character_info}\n",
    "\n",
    "    # Currently\n",
    "    ## Scene\n",
    "    {current_situation}\n",
    "\n",
    "    Narrator:\n",
    "    \"\"\")\n",
    "]\n",
    "\n",
    "# 모델에 메시지를 입력하고 응답을 받습니다.\n",
    "response = story_model.generate(messages)\n",
    "\n",
    "# 응답을 출력합니다.\n",
    "print(response.generations[0].message.content)\n"
   ],
   "id": "72465b7775c14831",
   "outputs": [
    {
     "ename": "TypeError",
     "evalue": "Got unknown type ('content', '\\n텍스트 기반 어드벤처 게임의 내레이터 역할을 하세요. 당신의 임무는 환경과 보조 캐릭터를 묘사하는 것입니다. 보조 캐릭터가 말할 때는 직접 화법을 사용하세요. 플레이어가 플레이어 캐릭터(PC)의 행동과 대사를 조종합니다. 플레이어 캐릭터를 대신해 행동하거나 말해서는 안 됩니다. 내레이터가 상황을 묘사하고 플레이어가 플레이어 캐릭터의 행동을 말하는 식으로 턴이 진행됩니다. 플레이어 캐릭터에 대해 이야기할 때는 2인칭 시점을 사용하세요. 당신의 출력은 베스트셀러 작가가 쓴 것처럼 전문적으로 작성되어야 합니다.\\n')",
     "output_type": "error",
     "traceback": [
      "\u001B[1;31m---------------------------------------------------------------------------\u001B[0m",
      "\u001B[1;31mTypeError\u001B[0m                                 Traceback (most recent call last)",
      "Cell \u001B[1;32mIn[23], line 57\u001B[0m\n\u001B[0;32m     39\u001B[0m messages \u001B[38;5;241m=\u001B[39m [\n\u001B[0;32m     40\u001B[0m     SystemMessage(content\u001B[38;5;241m=\u001B[39minstructions),\n\u001B[0;32m     41\u001B[0m     HumanMessage(content\u001B[38;5;241m=\u001B[39m\u001B[38;5;124mf\u001B[39m\u001B[38;5;124m\"\"\"\u001B[39m\n\u001B[1;32m   (...)\u001B[0m\n\u001B[0;32m     53\u001B[0m \u001B[38;5;124m    \u001B[39m\u001B[38;5;124m\"\"\"\u001B[39m)\n\u001B[0;32m     54\u001B[0m ]\n\u001B[0;32m     56\u001B[0m \u001B[38;5;66;03m# 모델에 메시지를 입력하고 응답을 받습니다.\u001B[39;00m\n\u001B[1;32m---> 57\u001B[0m response \u001B[38;5;241m=\u001B[39m \u001B[43mstory_model\u001B[49m\u001B[38;5;241;43m.\u001B[39;49m\u001B[43mgenerate\u001B[49m\u001B[43m(\u001B[49m\u001B[43mmessages\u001B[49m\u001B[43m)\u001B[49m\n\u001B[0;32m     59\u001B[0m \u001B[38;5;66;03m# 응답을 출력합니다.\u001B[39;00m\n\u001B[0;32m     60\u001B[0m \u001B[38;5;28mprint\u001B[39m(response\u001B[38;5;241m.\u001B[39mgenerations[\u001B[38;5;241m0\u001B[39m]\u001B[38;5;241m.\u001B[39mmessage\u001B[38;5;241m.\u001B[39mcontent)\n",
      "File \u001B[1;32m~\\miniconda3\\envs\\trpg\\lib\\site-packages\\langchain_core\\language_models\\chat_models.py:555\u001B[0m, in \u001B[0;36mBaseChatModel.generate\u001B[1;34m(self, messages, stop, callbacks, tags, metadata, run_name, run_id, **kwargs)\u001B[0m\n\u001B[0;32m    553\u001B[0m         \u001B[38;5;28;01mif\u001B[39;00m run_managers:\n\u001B[0;32m    554\u001B[0m             run_managers[i]\u001B[38;5;241m.\u001B[39mon_llm_error(e, response\u001B[38;5;241m=\u001B[39mLLMResult(generations\u001B[38;5;241m=\u001B[39m[]))\n\u001B[1;32m--> 555\u001B[0m         \u001B[38;5;28;01mraise\u001B[39;00m e\n\u001B[0;32m    556\u001B[0m flattened_outputs \u001B[38;5;241m=\u001B[39m [\n\u001B[0;32m    557\u001B[0m     LLMResult(generations\u001B[38;5;241m=\u001B[39m[res\u001B[38;5;241m.\u001B[39mgenerations], llm_output\u001B[38;5;241m=\u001B[39mres\u001B[38;5;241m.\u001B[39mllm_output)  \u001B[38;5;66;03m# type: ignore[list-item]\u001B[39;00m\n\u001B[0;32m    558\u001B[0m     \u001B[38;5;28;01mfor\u001B[39;00m res \u001B[38;5;129;01min\u001B[39;00m results\n\u001B[0;32m    559\u001B[0m ]\n\u001B[0;32m    560\u001B[0m llm_output \u001B[38;5;241m=\u001B[39m \u001B[38;5;28mself\u001B[39m\u001B[38;5;241m.\u001B[39m_combine_llm_outputs([res\u001B[38;5;241m.\u001B[39mllm_output \u001B[38;5;28;01mfor\u001B[39;00m res \u001B[38;5;129;01min\u001B[39;00m results])\n",
      "File \u001B[1;32m~\\miniconda3\\envs\\trpg\\lib\\site-packages\\langchain_core\\language_models\\chat_models.py:545\u001B[0m, in \u001B[0;36mBaseChatModel.generate\u001B[1;34m(self, messages, stop, callbacks, tags, metadata, run_name, run_id, **kwargs)\u001B[0m\n\u001B[0;32m    542\u001B[0m \u001B[38;5;28;01mfor\u001B[39;00m i, m \u001B[38;5;129;01min\u001B[39;00m \u001B[38;5;28menumerate\u001B[39m(messages):\n\u001B[0;32m    543\u001B[0m     \u001B[38;5;28;01mtry\u001B[39;00m:\n\u001B[0;32m    544\u001B[0m         results\u001B[38;5;241m.\u001B[39mappend(\n\u001B[1;32m--> 545\u001B[0m             \u001B[38;5;28mself\u001B[39m\u001B[38;5;241m.\u001B[39m_generate_with_cache(\n\u001B[0;32m    546\u001B[0m                 m,\n\u001B[0;32m    547\u001B[0m                 stop\u001B[38;5;241m=\u001B[39mstop,\n\u001B[0;32m    548\u001B[0m                 run_manager\u001B[38;5;241m=\u001B[39mrun_managers[i] \u001B[38;5;28;01mif\u001B[39;00m run_managers \u001B[38;5;28;01melse\u001B[39;00m \u001B[38;5;28;01mNone\u001B[39;00m,\n\u001B[0;32m    549\u001B[0m                 \u001B[38;5;241m*\u001B[39m\u001B[38;5;241m*\u001B[39mkwargs,\n\u001B[0;32m    550\u001B[0m             )\n\u001B[0;32m    551\u001B[0m         )\n\u001B[0;32m    552\u001B[0m     \u001B[38;5;28;01mexcept\u001B[39;00m \u001B[38;5;167;01mBaseException\u001B[39;00m \u001B[38;5;28;01mas\u001B[39;00m e:\n\u001B[0;32m    553\u001B[0m         \u001B[38;5;28;01mif\u001B[39;00m run_managers:\n",
      "File \u001B[1;32m~\\miniconda3\\envs\\trpg\\lib\\site-packages\\langchain_core\\language_models\\chat_models.py:770\u001B[0m, in \u001B[0;36mBaseChatModel._generate_with_cache\u001B[1;34m(self, messages, stop, run_manager, **kwargs)\u001B[0m\n\u001B[0;32m    768\u001B[0m \u001B[38;5;28;01melse\u001B[39;00m:\n\u001B[0;32m    769\u001B[0m     \u001B[38;5;28;01mif\u001B[39;00m inspect\u001B[38;5;241m.\u001B[39msignature(\u001B[38;5;28mself\u001B[39m\u001B[38;5;241m.\u001B[39m_generate)\u001B[38;5;241m.\u001B[39mparameters\u001B[38;5;241m.\u001B[39mget(\u001B[38;5;124m\"\u001B[39m\u001B[38;5;124mrun_manager\u001B[39m\u001B[38;5;124m\"\u001B[39m):\n\u001B[1;32m--> 770\u001B[0m         result \u001B[38;5;241m=\u001B[39m \u001B[38;5;28mself\u001B[39m\u001B[38;5;241m.\u001B[39m_generate(\n\u001B[0;32m    771\u001B[0m             messages, stop\u001B[38;5;241m=\u001B[39mstop, run_manager\u001B[38;5;241m=\u001B[39mrun_manager, \u001B[38;5;241m*\u001B[39m\u001B[38;5;241m*\u001B[39mkwargs\n\u001B[0;32m    772\u001B[0m         )\n\u001B[0;32m    773\u001B[0m     \u001B[38;5;28;01melse\u001B[39;00m:\n\u001B[0;32m    774\u001B[0m         result \u001B[38;5;241m=\u001B[39m \u001B[38;5;28mself\u001B[39m\u001B[38;5;241m.\u001B[39m_generate(messages, stop\u001B[38;5;241m=\u001B[39mstop, \u001B[38;5;241m*\u001B[39m\u001B[38;5;241m*\u001B[39mkwargs)\n",
      "File \u001B[1;32m~\\miniconda3\\envs\\trpg\\lib\\site-packages\\langchain_community\\chat_models\\openai.py:437\u001B[0m, in \u001B[0;36mChatOpenAI._generate\u001B[1;34m(self, messages, stop, run_manager, stream, **kwargs)\u001B[0m\n\u001B[0;32m    433\u001B[0m     stream_iter \u001B[38;5;241m=\u001B[39m \u001B[38;5;28mself\u001B[39m\u001B[38;5;241m.\u001B[39m_stream(\n\u001B[0;32m    434\u001B[0m         messages, stop\u001B[38;5;241m=\u001B[39mstop, run_manager\u001B[38;5;241m=\u001B[39mrun_manager, \u001B[38;5;241m*\u001B[39m\u001B[38;5;241m*\u001B[39mkwargs\n\u001B[0;32m    435\u001B[0m     )\n\u001B[0;32m    436\u001B[0m     \u001B[38;5;28;01mreturn\u001B[39;00m generate_from_stream(stream_iter)\n\u001B[1;32m--> 437\u001B[0m message_dicts, params \u001B[38;5;241m=\u001B[39m \u001B[38;5;28;43mself\u001B[39;49m\u001B[38;5;241;43m.\u001B[39;49m\u001B[43m_create_message_dicts\u001B[49m\u001B[43m(\u001B[49m\u001B[43mmessages\u001B[49m\u001B[43m,\u001B[49m\u001B[43m \u001B[49m\u001B[43mstop\u001B[49m\u001B[43m)\u001B[49m\n\u001B[0;32m    438\u001B[0m params \u001B[38;5;241m=\u001B[39m {\n\u001B[0;32m    439\u001B[0m     \u001B[38;5;241m*\u001B[39m\u001B[38;5;241m*\u001B[39mparams,\n\u001B[0;32m    440\u001B[0m     \u001B[38;5;241m*\u001B[39m\u001B[38;5;241m*\u001B[39m({\u001B[38;5;124m\"\u001B[39m\u001B[38;5;124mstream\u001B[39m\u001B[38;5;124m\"\u001B[39m: stream} \u001B[38;5;28;01mif\u001B[39;00m stream \u001B[38;5;129;01mis\u001B[39;00m \u001B[38;5;129;01mnot\u001B[39;00m \u001B[38;5;28;01mNone\u001B[39;00m \u001B[38;5;28;01melse\u001B[39;00m {}),\n\u001B[0;32m    441\u001B[0m     \u001B[38;5;241m*\u001B[39m\u001B[38;5;241m*\u001B[39mkwargs,\n\u001B[0;32m    442\u001B[0m }\n\u001B[0;32m    443\u001B[0m response \u001B[38;5;241m=\u001B[39m \u001B[38;5;28mself\u001B[39m\u001B[38;5;241m.\u001B[39mcompletion_with_retry(\n\u001B[0;32m    444\u001B[0m     messages\u001B[38;5;241m=\u001B[39mmessage_dicts, run_manager\u001B[38;5;241m=\u001B[39mrun_manager, \u001B[38;5;241m*\u001B[39m\u001B[38;5;241m*\u001B[39mparams\n\u001B[0;32m    445\u001B[0m )\n",
      "File \u001B[1;32m~\\miniconda3\\envs\\trpg\\lib\\site-packages\\langchain_community\\chat_models\\openai.py:456\u001B[0m, in \u001B[0;36mChatOpenAI._create_message_dicts\u001B[1;34m(self, messages, stop)\u001B[0m\n\u001B[0;32m    454\u001B[0m         \u001B[38;5;28;01mraise\u001B[39;00m \u001B[38;5;167;01mValueError\u001B[39;00m(\u001B[38;5;124m\"\u001B[39m\u001B[38;5;124m`stop` found in both the input and default params.\u001B[39m\u001B[38;5;124m\"\u001B[39m)\n\u001B[0;32m    455\u001B[0m     params[\u001B[38;5;124m\"\u001B[39m\u001B[38;5;124mstop\u001B[39m\u001B[38;5;124m\"\u001B[39m] \u001B[38;5;241m=\u001B[39m stop\n\u001B[1;32m--> 456\u001B[0m message_dicts \u001B[38;5;241m=\u001B[39m [convert_message_to_dict(m) \u001B[38;5;28;01mfor\u001B[39;00m m \u001B[38;5;129;01min\u001B[39;00m messages]\n\u001B[0;32m    457\u001B[0m \u001B[38;5;28;01mreturn\u001B[39;00m message_dicts, params\n",
      "File \u001B[1;32m~\\miniconda3\\envs\\trpg\\lib\\site-packages\\langchain_community\\chat_models\\openai.py:456\u001B[0m, in \u001B[0;36m<listcomp>\u001B[1;34m(.0)\u001B[0m\n\u001B[0;32m    454\u001B[0m         \u001B[38;5;28;01mraise\u001B[39;00m \u001B[38;5;167;01mValueError\u001B[39;00m(\u001B[38;5;124m\"\u001B[39m\u001B[38;5;124m`stop` found in both the input and default params.\u001B[39m\u001B[38;5;124m\"\u001B[39m)\n\u001B[0;32m    455\u001B[0m     params[\u001B[38;5;124m\"\u001B[39m\u001B[38;5;124mstop\u001B[39m\u001B[38;5;124m\"\u001B[39m] \u001B[38;5;241m=\u001B[39m stop\n\u001B[1;32m--> 456\u001B[0m message_dicts \u001B[38;5;241m=\u001B[39m [\u001B[43mconvert_message_to_dict\u001B[49m\u001B[43m(\u001B[49m\u001B[43mm\u001B[49m\u001B[43m)\u001B[49m \u001B[38;5;28;01mfor\u001B[39;00m m \u001B[38;5;129;01min\u001B[39;00m messages]\n\u001B[0;32m    457\u001B[0m \u001B[38;5;28;01mreturn\u001B[39;00m message_dicts, params\n",
      "File \u001B[1;32m~\\miniconda3\\envs\\trpg\\lib\\site-packages\\langchain_community\\adapters\\openai.py:153\u001B[0m, in \u001B[0;36mconvert_message_to_dict\u001B[1;34m(message)\u001B[0m\n\u001B[0;32m    147\u001B[0m     message_dict \u001B[38;5;241m=\u001B[39m {\n\u001B[0;32m    148\u001B[0m         \u001B[38;5;124m\"\u001B[39m\u001B[38;5;124mrole\u001B[39m\u001B[38;5;124m\"\u001B[39m: \u001B[38;5;124m\"\u001B[39m\u001B[38;5;124mtool\u001B[39m\u001B[38;5;124m\"\u001B[39m,\n\u001B[0;32m    149\u001B[0m         \u001B[38;5;124m\"\u001B[39m\u001B[38;5;124mcontent\u001B[39m\u001B[38;5;124m\"\u001B[39m: message\u001B[38;5;241m.\u001B[39mcontent,\n\u001B[0;32m    150\u001B[0m         \u001B[38;5;124m\"\u001B[39m\u001B[38;5;124mtool_call_id\u001B[39m\u001B[38;5;124m\"\u001B[39m: message\u001B[38;5;241m.\u001B[39mtool_call_id,\n\u001B[0;32m    151\u001B[0m     }\n\u001B[0;32m    152\u001B[0m \u001B[38;5;28;01melse\u001B[39;00m:\n\u001B[1;32m--> 153\u001B[0m     \u001B[38;5;28;01mraise\u001B[39;00m \u001B[38;5;167;01mTypeError\u001B[39;00m(\u001B[38;5;124mf\u001B[39m\u001B[38;5;124m\"\u001B[39m\u001B[38;5;124mGot unknown type \u001B[39m\u001B[38;5;132;01m{\u001B[39;00mmessage\u001B[38;5;132;01m}\u001B[39;00m\u001B[38;5;124m\"\u001B[39m)\n\u001B[0;32m    154\u001B[0m \u001B[38;5;28;01mif\u001B[39;00m \u001B[38;5;124m\"\u001B[39m\u001B[38;5;124mname\u001B[39m\u001B[38;5;124m\"\u001B[39m \u001B[38;5;129;01min\u001B[39;00m message\u001B[38;5;241m.\u001B[39madditional_kwargs:\n\u001B[0;32m    155\u001B[0m     message_dict[\u001B[38;5;124m\"\u001B[39m\u001B[38;5;124mname\u001B[39m\u001B[38;5;124m\"\u001B[39m] \u001B[38;5;241m=\u001B[39m message\u001B[38;5;241m.\u001B[39madditional_kwargs[\u001B[38;5;124m\"\u001B[39m\u001B[38;5;124mname\u001B[39m\u001B[38;5;124m\"\u001B[39m]\n",
      "\u001B[1;31mTypeError\u001B[0m: Got unknown type ('content', '\\n텍스트 기반 어드벤처 게임의 내레이터 역할을 하세요. 당신의 임무는 환경과 보조 캐릭터를 묘사하는 것입니다. 보조 캐릭터가 말할 때는 직접 화법을 사용하세요. 플레이어가 플레이어 캐릭터(PC)의 행동과 대사를 조종합니다. 플레이어 캐릭터를 대신해 행동하거나 말해서는 안 됩니다. 내레이터가 상황을 묘사하고 플레이어가 플레이어 캐릭터의 행동을 말하는 식으로 턴이 진행됩니다. 플레이어 캐릭터에 대해 이야기할 때는 2인칭 시점을 사용하세요. 당신의 출력은 베스트셀러 작가가 쓴 것처럼 전문적으로 작성되어야 합니다.\\n')"
     ]
    }
   ],
   "execution_count": 23
  }
 ],
 "metadata": {
  "kernelspec": {
   "display_name": "Python 3",
   "language": "python",
   "name": "python3"
  },
  "language_info": {
   "codemirror_mode": {
    "name": "ipython",
    "version": 2
   },
   "file_extension": ".py",
   "mimetype": "text/x-python",
   "name": "python",
   "nbconvert_exporter": "python",
   "pygments_lexer": "ipython2",
   "version": "2.7.6"
  }
 },
 "nbformat": 4,
 "nbformat_minor": 5
}
